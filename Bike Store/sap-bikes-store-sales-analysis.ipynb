{
 "cells": [
  {
   "cell_type": "markdown",
   "metadata": {
    "papermill": {
     "duration": 0.025621,
     "end_time": "2021-05-18T13:36:29.706594",
     "exception": false,
     "start_time": "2021-05-18T13:36:29.680973",
     "status": "completed"
    },
    "tags": []
   },
   "source": [
    "#  SAP bikes store sales analysis\n",
    "* **Dummy sales data (bikes sales)**\n",
    "* **Data warehouse cloud content master**"
   ]
  },
  {
   "cell_type": "markdown",
   "metadata": {
    "papermill": {
     "duration": 0.024521,
     "end_time": "2021-05-18T13:36:29.755933",
     "exception": false,
     "start_time": "2021-05-18T13:36:29.731412",
     "status": "completed"
    },
    "tags": []
   },
   "source": [
    "<table>\n",
    "<tr>\n",
    "<td><img src=\"https://i.imgur.com/skaZPhb.png\" width=\"350px\"/></td>\n",
    "<td><img src=\"https://i.imgur.com/gaNttYd.png\" width=\"350px\"/></td>\n",
    "<td><img src=\"https://i.imgur.com/pampioh.png\"/></td>\n",
    "<td><img src=\"https://i.imgur.com/OSbuszd.png\"/></td>\n",
    "\n",
    "<!--<td><img src=\"https://i.imgur.com/ydaMhT1.png\" width=\"350px\"/></td>\n",
    "<td><img src=\"https://i.imgur.com/WLAqDSV.png\" width=\"350px\"/></td>\n",
    "<td><img src=\"https://i.imgur.com/Tj2y9gH.png\"/></td>\n",
    "<td><img src=\"https://i.imgur.com/X0qXLCu.png\"/></td>-->\n",
    "</tr>\n",
    "<tr>\n",
    "<td style=\"font-weight:bold; font-size:16px; text-align:left\">Bar Chat</td>\n",
    "<td style=\"font-weight:bold; font-size:16px; text-align:left\">Line Chart</td>\n",
    "<td style=\"font-weight:bold; font-size:16px; text-align:left\">Area Chart</td>\n",
    "<td style=\"font-weight:bold; font-size:16px; text-align:left\">Histogram</td>\n",
    "</tr>\n",
    "<tr>\n",
    "<td style=\"text-align:left\">df.plot.bar()</td>\n",
    "<td style=\"text-align:left\">df.plot.line()</td>\n",
    "<td style=\"text-align:left\">df.plot.area()</td>\n",
    "<td style=\"text-align:left\">df.plot.hist()</td>\n",
    "</tr>\n",
    "<tr>\n",
    "<td style=\"text-align:left\">Good for nominal and small ordinal categorical data.</td>\n",
    "<td style=\"text-align:left\">\tGood for ordinal categorical and interval data.</td>\n",
    "<td style=\"text-align:left\">Good for ordinal categorical and interval data.</td>\n",
    "<td style=\"text-align:left\">Good for interval data.</td>\n",
    "</tr>\n",
    "</table>"
   ]
  },
  {
   "cell_type": "code",
   "execution_count": 1,
   "metadata": {
    "_cell_guid": "b1076dfc-b9ad-4769-8c92-a6c4dae69d19",
    "_uuid": "8f2839f25d086af736a60e9eeb907d3b93b6e0e5",
    "execution": {
     "iopub.execute_input": "2021-05-18T13:36:29.813626Z",
     "iopub.status.busy": "2021-05-18T13:36:29.812975Z",
     "iopub.status.idle": "2021-05-18T13:36:30.613094Z",
     "shell.execute_reply": "2021-05-18T13:36:30.612514Z"
    },
    "papermill": {
     "duration": 0.83273,
     "end_time": "2021-05-18T13:36:30.613295",
     "exception": false,
     "start_time": "2021-05-18T13:36:29.780565",
     "status": "completed"
    },
    "tags": []
   },
   "outputs": [
    {
     "name": "stdout",
     "output_type": "stream",
     "text": [
      "setup completed\n"
     ]
    }
   ],
   "source": [
    "import numpy as np # linear algebra\n",
    "import pandas as pd \n",
    "import matplotlib.pyplot as plt\n",
    "import dateutil\n",
    "import seaborn as sns\n",
    "from copy import deepcopy\n",
    "\n",
    "import os\n",
    "for dirname, _, filenames in os.walk('/kaggle/input'):\n",
    "    for filename in filenames:\n",
    "        os.path.join(dirname, filename)\n",
    "print(\"setup completed\")"
   ]
  },
  {
   "cell_type": "markdown",
   "metadata": {
    "papermill": {
     "duration": 0.024247,
     "end_time": "2021-05-18T13:36:30.662754",
     "exception": false,
     "start_time": "2021-05-18T13:36:30.638507",
     "status": "completed"
    },
    "tags": []
   },
   "source": [
    "# (EDA) Load and explor sales orders data"
   ]
  },
  {
   "cell_type": "code",
   "execution_count": 2,
   "metadata": {
    "execution": {
     "iopub.execute_input": "2021-05-18T13:36:30.716038Z",
     "iopub.status.busy": "2021-05-18T13:36:30.715455Z",
     "iopub.status.idle": "2021-05-18T13:36:30.732950Z",
     "shell.execute_reply": "2021-05-18T13:36:30.732288Z"
    },
    "papermill": {
     "duration": 0.04578,
     "end_time": "2021-05-18T13:36:30.733095",
     "exception": false,
     "start_time": "2021-05-18T13:36:30.687315",
     "status": "completed"
    },
    "tags": []
   },
   "outputs": [],
   "source": [
    "bikes_data_filepath = \"/kaggle/input/bikes-sales-sample-data/SalesOrders.csv\"\n",
    "bikes_brands_filepath = \"/kaggle/input/bikes-sales-sample-data/SalesOrderItems.csv\"\n",
    "\n",
    "bikes_sales_data = pd.read_csv(bikes_data_filepath)\n",
    "bikes_brands = pd.read_csv(bikes_data_filepath)"
   ]
  },
  {
   "cell_type": "code",
   "execution_count": 3,
   "metadata": {
    "execution": {
     "iopub.execute_input": "2021-05-18T13:36:30.794868Z",
     "iopub.status.busy": "2021-05-18T13:36:30.794295Z",
     "iopub.status.idle": "2021-05-18T13:36:30.822844Z",
     "shell.execute_reply": "2021-05-18T13:36:30.823410Z"
    },
    "papermill": {
     "duration": 0.065977,
     "end_time": "2021-05-18T13:36:30.823587",
     "exception": false,
     "start_time": "2021-05-18T13:36:30.757610",
     "status": "completed"
    },
    "tags": []
   },
   "outputs": [
    {
     "data": {
      "text/html": [
       "<div>\n",
       "<style scoped>\n",
       "    .dataframe tbody tr th:only-of-type {\n",
       "        vertical-align: middle;\n",
       "    }\n",
       "\n",
       "    .dataframe tbody tr th {\n",
       "        vertical-align: top;\n",
       "    }\n",
       "\n",
       "    .dataframe thead th {\n",
       "        text-align: right;\n",
       "    }\n",
       "</style>\n",
       "<table border=\"1\" class=\"dataframe\">\n",
       "  <thead>\n",
       "    <tr style=\"text-align: right;\">\n",
       "      <th></th>\n",
       "      <th>SALESORDERID</th>\n",
       "      <th>CREATEDBY</th>\n",
       "      <th>CREATEDAT</th>\n",
       "      <th>CHANGEDBY</th>\n",
       "      <th>CHANGEDAT</th>\n",
       "      <th>FISCVARIANT</th>\n",
       "      <th>FISCALYEARPERIOD</th>\n",
       "      <th>NOTEID</th>\n",
       "      <th>PARTNERID</th>\n",
       "      <th>SALESORG</th>\n",
       "      <th>CURRENCY</th>\n",
       "      <th>GROSSAMOUNT</th>\n",
       "      <th>NETAMOUNT</th>\n",
       "      <th>TAXAMOUNT</th>\n",
       "      <th>LIFECYCLESTATUS</th>\n",
       "      <th>BILLINGSTATUS</th>\n",
       "      <th>DELIVERYSTATUS</th>\n",
       "    </tr>\n",
       "  </thead>\n",
       "  <tbody>\n",
       "    <tr>\n",
       "      <th>0</th>\n",
       "      <td>500000000</td>\n",
       "      <td>4</td>\n",
       "      <td>20180111</td>\n",
       "      <td>4</td>\n",
       "      <td>20180116</td>\n",
       "      <td>K4</td>\n",
       "      <td>2018001</td>\n",
       "      <td>NaN</td>\n",
       "      <td>100000022</td>\n",
       "      <td>APJ</td>\n",
       "      <td>USD</td>\n",
       "      <td>13587</td>\n",
       "      <td>11888.625</td>\n",
       "      <td>1698.375</td>\n",
       "      <td>C</td>\n",
       "      <td>C</td>\n",
       "      <td>C</td>\n",
       "    </tr>\n",
       "    <tr>\n",
       "      <th>1</th>\n",
       "      <td>500000001</td>\n",
       "      <td>2</td>\n",
       "      <td>20180112</td>\n",
       "      <td>2</td>\n",
       "      <td>20180115</td>\n",
       "      <td>K4</td>\n",
       "      <td>2018001</td>\n",
       "      <td>NaN</td>\n",
       "      <td>100000026</td>\n",
       "      <td>EMEA</td>\n",
       "      <td>USD</td>\n",
       "      <td>12622</td>\n",
       "      <td>11044.250</td>\n",
       "      <td>1577.750</td>\n",
       "      <td>C</td>\n",
       "      <td>C</td>\n",
       "      <td>C</td>\n",
       "    </tr>\n",
       "    <tr>\n",
       "      <th>2</th>\n",
       "      <td>500000002</td>\n",
       "      <td>5</td>\n",
       "      <td>20180115</td>\n",
       "      <td>5</td>\n",
       "      <td>20180120</td>\n",
       "      <td>K4</td>\n",
       "      <td>2018001</td>\n",
       "      <td>NaN</td>\n",
       "      <td>100000018</td>\n",
       "      <td>APJ</td>\n",
       "      <td>USD</td>\n",
       "      <td>45655</td>\n",
       "      <td>39948.125</td>\n",
       "      <td>5706.875</td>\n",
       "      <td>C</td>\n",
       "      <td>C</td>\n",
       "      <td>C</td>\n",
       "    </tr>\n",
       "    <tr>\n",
       "      <th>3</th>\n",
       "      <td>500000003</td>\n",
       "      <td>3</td>\n",
       "      <td>20180115</td>\n",
       "      <td>3</td>\n",
       "      <td>20180120</td>\n",
       "      <td>K4</td>\n",
       "      <td>2018001</td>\n",
       "      <td>NaN</td>\n",
       "      <td>100000009</td>\n",
       "      <td>EMEA</td>\n",
       "      <td>USD</td>\n",
       "      <td>101786</td>\n",
       "      <td>89062.750</td>\n",
       "      <td>12723.250</td>\n",
       "      <td>C</td>\n",
       "      <td>C</td>\n",
       "      <td>C</td>\n",
       "    </tr>\n",
       "    <tr>\n",
       "      <th>4</th>\n",
       "      <td>500000004</td>\n",
       "      <td>8</td>\n",
       "      <td>20180116</td>\n",
       "      <td>8</td>\n",
       "      <td>20180117</td>\n",
       "      <td>K4</td>\n",
       "      <td>2018001</td>\n",
       "      <td>NaN</td>\n",
       "      <td>100000025</td>\n",
       "      <td>EMEA</td>\n",
       "      <td>USD</td>\n",
       "      <td>71684</td>\n",
       "      <td>62723.500</td>\n",
       "      <td>8960.500</td>\n",
       "      <td>C</td>\n",
       "      <td>C</td>\n",
       "      <td>C</td>\n",
       "    </tr>\n",
       "    <tr>\n",
       "      <th>5</th>\n",
       "      <td>500000005</td>\n",
       "      <td>8</td>\n",
       "      <td>20180116</td>\n",
       "      <td>8</td>\n",
       "      <td>20180119</td>\n",
       "      <td>K4</td>\n",
       "      <td>2018001</td>\n",
       "      <td>NaN</td>\n",
       "      <td>100000008</td>\n",
       "      <td>EMEA</td>\n",
       "      <td>USD</td>\n",
       "      <td>104213</td>\n",
       "      <td>91186.375</td>\n",
       "      <td>13026.625</td>\n",
       "      <td>C</td>\n",
       "      <td>C</td>\n",
       "      <td>C</td>\n",
       "    </tr>\n",
       "    <tr>\n",
       "      <th>6</th>\n",
       "      <td>500000006</td>\n",
       "      <td>3</td>\n",
       "      <td>20180117</td>\n",
       "      <td>3</td>\n",
       "      <td>20180120</td>\n",
       "      <td>K4</td>\n",
       "      <td>2018001</td>\n",
       "      <td>NaN</td>\n",
       "      <td>100000038</td>\n",
       "      <td>EMEA</td>\n",
       "      <td>USD</td>\n",
       "      <td>173987</td>\n",
       "      <td>152238.625</td>\n",
       "      <td>21748.375</td>\n",
       "      <td>C</td>\n",
       "      <td>C</td>\n",
       "      <td>C</td>\n",
       "    </tr>\n",
       "    <tr>\n",
       "      <th>7</th>\n",
       "      <td>500000007</td>\n",
       "      <td>4</td>\n",
       "      <td>20180119</td>\n",
       "      <td>4</td>\n",
       "      <td>20180121</td>\n",
       "      <td>K4</td>\n",
       "      <td>2018001</td>\n",
       "      <td>NaN</td>\n",
       "      <td>100000020</td>\n",
       "      <td>APJ</td>\n",
       "      <td>USD</td>\n",
       "      <td>1398</td>\n",
       "      <td>1223.250</td>\n",
       "      <td>174.750</td>\n",
       "      <td>C</td>\n",
       "      <td>C</td>\n",
       "      <td>C</td>\n",
       "    </tr>\n",
       "    <tr>\n",
       "      <th>8</th>\n",
       "      <td>500000008</td>\n",
       "      <td>3</td>\n",
       "      <td>20180120</td>\n",
       "      <td>3</td>\n",
       "      <td>20180122</td>\n",
       "      <td>K4</td>\n",
       "      <td>2018001</td>\n",
       "      <td>NaN</td>\n",
       "      <td>100000028</td>\n",
       "      <td>EMEA</td>\n",
       "      <td>USD</td>\n",
       "      <td>127803</td>\n",
       "      <td>111827.625</td>\n",
       "      <td>15975.375</td>\n",
       "      <td>C</td>\n",
       "      <td>C</td>\n",
       "      <td>C</td>\n",
       "    </tr>\n",
       "    <tr>\n",
       "      <th>9</th>\n",
       "      <td>500000009</td>\n",
       "      <td>4</td>\n",
       "      <td>20180121</td>\n",
       "      <td>4</td>\n",
       "      <td>20180122</td>\n",
       "      <td>K4</td>\n",
       "      <td>2018001</td>\n",
       "      <td>NaN</td>\n",
       "      <td>100000021</td>\n",
       "      <td>APJ</td>\n",
       "      <td>USD</td>\n",
       "      <td>79101</td>\n",
       "      <td>69213.375</td>\n",
       "      <td>9887.625</td>\n",
       "      <td>C</td>\n",
       "      <td>C</td>\n",
       "      <td>C</td>\n",
       "    </tr>\n",
       "  </tbody>\n",
       "</table>\n",
       "</div>"
      ],
      "text/plain": [
       "   SALESORDERID  CREATEDBY  CREATEDAT  CHANGEDBY  CHANGEDAT FISCVARIANT  \\\n",
       "0     500000000          4   20180111          4   20180116          K4   \n",
       "1     500000001          2   20180112          2   20180115          K4   \n",
       "2     500000002          5   20180115          5   20180120          K4   \n",
       "3     500000003          3   20180115          3   20180120          K4   \n",
       "4     500000004          8   20180116          8   20180117          K4   \n",
       "5     500000005          8   20180116          8   20180119          K4   \n",
       "6     500000006          3   20180117          3   20180120          K4   \n",
       "7     500000007          4   20180119          4   20180121          K4   \n",
       "8     500000008          3   20180120          3   20180122          K4   \n",
       "9     500000009          4   20180121          4   20180122          K4   \n",
       "\n",
       "   FISCALYEARPERIOD  NOTEID  PARTNERID SALESORG CURRENCY  GROSSAMOUNT  \\\n",
       "0           2018001     NaN  100000022      APJ      USD        13587   \n",
       "1           2018001     NaN  100000026     EMEA      USD        12622   \n",
       "2           2018001     NaN  100000018      APJ      USD        45655   \n",
       "3           2018001     NaN  100000009     EMEA      USD       101786   \n",
       "4           2018001     NaN  100000025     EMEA      USD        71684   \n",
       "5           2018001     NaN  100000008     EMEA      USD       104213   \n",
       "6           2018001     NaN  100000038     EMEA      USD       173987   \n",
       "7           2018001     NaN  100000020      APJ      USD         1398   \n",
       "8           2018001     NaN  100000028     EMEA      USD       127803   \n",
       "9           2018001     NaN  100000021      APJ      USD        79101   \n",
       "\n",
       "    NETAMOUNT  TAXAMOUNT LIFECYCLESTATUS BILLINGSTATUS DELIVERYSTATUS  \n",
       "0   11888.625   1698.375               C             C              C  \n",
       "1   11044.250   1577.750               C             C              C  \n",
       "2   39948.125   5706.875               C             C              C  \n",
       "3   89062.750  12723.250               C             C              C  \n",
       "4   62723.500   8960.500               C             C              C  \n",
       "5   91186.375  13026.625               C             C              C  \n",
       "6  152238.625  21748.375               C             C              C  \n",
       "7    1223.250    174.750               C             C              C  \n",
       "8  111827.625  15975.375               C             C              C  \n",
       "9   69213.375   9887.625               C             C              C  "
      ]
     },
     "execution_count": 3,
     "metadata": {},
     "output_type": "execute_result"
    }
   ],
   "source": [
    "#Display first 10 rows\n",
    "bikes_sales_data.head(10)"
   ]
  },
  {
   "cell_type": "code",
   "execution_count": null,
   "metadata": {
    "papermill": {
     "duration": 0.024722,
     "end_time": "2021-05-18T13:36:30.873447",
     "exception": false,
     "start_time": "2021-05-18T13:36:30.848725",
     "status": "completed"
    },
    "tags": []
   },
   "outputs": [],
   "source": []
  },
  {
   "cell_type": "markdown",
   "metadata": {
    "papermill": {
     "duration": 0.025064,
     "end_time": "2021-05-18T13:36:30.923142",
     "exception": false,
     "start_time": "2021-05-18T13:36:30.898078",
     "status": "completed"
    },
    "tags": []
   },
   "source": [
    "**Get Total (rows, cols) using: shape**"
   ]
  },
  {
   "cell_type": "code",
   "execution_count": 4,
   "metadata": {
    "execution": {
     "iopub.execute_input": "2021-05-18T13:36:30.977303Z",
     "iopub.status.busy": "2021-05-18T13:36:30.976733Z",
     "iopub.status.idle": "2021-05-18T13:36:30.980745Z",
     "shell.execute_reply": "2021-05-18T13:36:30.981195Z"
    },
    "papermill": {
     "duration": 0.032527,
     "end_time": "2021-05-18T13:36:30.981349",
     "exception": false,
     "start_time": "2021-05-18T13:36:30.948822",
     "status": "completed"
    },
    "tags": []
   },
   "outputs": [
    {
     "data": {
      "text/plain": [
       "(334, 17)"
      ]
     },
     "execution_count": 4,
     "metadata": {},
     "output_type": "execute_result"
    }
   ],
   "source": [
    "# Display total number of (rows, cols) using shape\n",
    "bikes_sales_data.shape"
   ]
  },
  {
   "cell_type": "markdown",
   "metadata": {
    "papermill": {
     "duration": 0.025303,
     "end_time": "2021-05-18T13:36:31.032458",
     "exception": false,
     "start_time": "2021-05-18T13:36:31.007155",
     "status": "completed"
    },
    "tags": []
   },
   "source": [
    "# Data Cleaning\n",
    "Find the null values"
   ]
  },
  {
   "cell_type": "code",
   "execution_count": 5,
   "metadata": {
    "execution": {
     "iopub.execute_input": "2021-05-18T13:36:31.086934Z",
     "iopub.status.busy": "2021-05-18T13:36:31.086389Z",
     "iopub.status.idle": "2021-05-18T13:36:31.094221Z",
     "shell.execute_reply": "2021-05-18T13:36:31.093756Z"
    },
    "papermill": {
     "duration": 0.035659,
     "end_time": "2021-05-18T13:36:31.094361",
     "exception": false,
     "start_time": "2021-05-18T13:36:31.058702",
     "status": "completed"
    },
    "tags": []
   },
   "outputs": [
    {
     "data": {
      "text/plain": [
       "SALESORDERID          0\n",
       "CREATEDBY             0\n",
       "CREATEDAT             0\n",
       "CHANGEDBY             0\n",
       "CHANGEDAT             0\n",
       "FISCVARIANT           0\n",
       "FISCALYEARPERIOD      0\n",
       "NOTEID              334\n",
       "PARTNERID             0\n",
       "SALESORG              0\n",
       "CURRENCY              0\n",
       "GROSSAMOUNT           0\n",
       "NETAMOUNT             0\n",
       "TAXAMOUNT             0\n",
       "LIFECYCLESTATUS       0\n",
       "BILLINGSTATUS         0\n",
       "DELIVERYSTATUS        0\n",
       "dtype: int64"
      ]
     },
     "execution_count": 5,
     "metadata": {},
     "output_type": "execute_result"
    }
   ],
   "source": [
    "# use isnull() to get the null values\n",
    "null_values = bikes_sales_data.isnull().sum()\n",
    "null_values\n"
   ]
  },
  {
   "cell_type": "code",
   "execution_count": 6,
   "metadata": {
    "execution": {
     "iopub.execute_input": "2021-05-18T13:36:31.153100Z",
     "iopub.status.busy": "2021-05-18T13:36:31.152379Z",
     "iopub.status.idle": "2021-05-18T13:36:31.155237Z",
     "shell.execute_reply": "2021-05-18T13:36:31.155673Z"
    },
    "papermill": {
     "duration": 0.035285,
     "end_time": "2021-05-18T13:36:31.155830",
     "exception": false,
     "start_time": "2021-05-18T13:36:31.120545",
     "status": "completed"
    },
    "tags": []
   },
   "outputs": [
    {
     "name": "stdout",
     "output_type": "stream",
     "text": [
      "Total cells in data set: 5678 Total of Null values: 334 percent missing: 5.88235294117647\n"
     ]
    }
   ],
   "source": [
    "# how many total missing values do we have?\n",
    "total_cells = np.product(bikes_sales_data.shape)\n",
    "total_missing = null_values.sum()\n",
    "\n",
    "# percent of data that is missing\n",
    "percent_missing = (total_missing/total_cells) * 100\n",
    "\n",
    "print(\"Total cells in data set: \" + str(total_cells),\n",
    "      \"Total of Null values: \" +\n",
    "      str(total_missing), \"percent missing: \" +\n",
    "      str(percent_missing))\n"
   ]
  },
  {
   "cell_type": "markdown",
   "metadata": {
    "papermill": {
     "duration": 0.025499,
     "end_time": "2021-05-18T13:36:31.206855",
     "exception": false,
     "start_time": "2021-05-18T13:36:31.181356",
     "status": "completed"
    },
    "tags": []
   },
   "source": [
    "* **NOTEID filed is empty with no data which means all valus are null.**\n",
    "* **Kaggl Advise: waht is null keep it null... it is not important**"
   ]
  },
  {
   "cell_type": "code",
   "execution_count": 7,
   "metadata": {
    "execution": {
     "iopub.execute_input": "2021-05-18T13:36:31.265247Z",
     "iopub.status.busy": "2021-05-18T13:36:31.264630Z",
     "iopub.status.idle": "2021-05-18T13:36:31.267221Z",
     "shell.execute_reply": "2021-05-18T13:36:31.266728Z"
    },
    "papermill": {
     "duration": 0.03388,
     "end_time": "2021-05-18T13:36:31.267343",
     "exception": false,
     "start_time": "2021-05-18T13:36:31.233463",
     "status": "completed"
    },
    "tags": []
   },
   "outputs": [],
   "source": [
    "#Drop NOTEID column \n",
    "bikes_sales_data = bikes_sales_data.drop(['NOTEID'], axis = 1)\n"
   ]
  },
  {
   "cell_type": "code",
   "execution_count": 8,
   "metadata": {
    "execution": {
     "iopub.execute_input": "2021-05-18T13:36:31.322143Z",
     "iopub.status.busy": "2021-05-18T13:36:31.321572Z",
     "iopub.status.idle": "2021-05-18T13:36:31.328404Z",
     "shell.execute_reply": "2021-05-18T13:36:31.328986Z"
    },
    "papermill": {
     "duration": 0.035294,
     "end_time": "2021-05-18T13:36:31.329189",
     "exception": false,
     "start_time": "2021-05-18T13:36:31.293895",
     "status": "completed"
    },
    "tags": []
   },
   "outputs": [
    {
     "name": "stdout",
     "output_type": "stream",
     "text": [
      "SALESORDERID        0\n",
      "CREATEDBY           0\n",
      "CREATEDAT           0\n",
      "CHANGEDBY           0\n",
      "CHANGEDAT           0\n",
      "FISCVARIANT         0\n",
      "FISCALYEARPERIOD    0\n",
      "PARTNERID           0\n",
      "SALESORG            0\n",
      "CURRENCY            0\n",
      "GROSSAMOUNT         0\n",
      "NETAMOUNT           0\n",
      "TAXAMOUNT           0\n",
      "LIFECYCLESTATUS     0\n",
      "BILLINGSTATUS       0\n",
      "DELIVERYSTATUS      0\n",
      "dtype: int64\n"
     ]
    }
   ],
   "source": [
    "# double check if there is any null values after droping NOTEID col\n",
    "print(bikes_sales_data.isnull().sum())"
   ]
  },
  {
   "cell_type": "markdown",
   "metadata": {
    "papermill": {
     "duration": 0.026406,
     "end_time": "2021-05-18T13:36:31.383561",
     "exception": false,
     "start_time": "2021-05-18T13:36:31.357155",
     "status": "completed"
    },
    "tags": []
   },
   "source": [
    "# Group sales records per sales Orgnization\n",
    "\n"
   ]
  },
  {
   "cell_type": "code",
   "execution_count": 9,
   "metadata": {
    "execution": {
     "iopub.execute_input": "2021-05-18T13:36:31.444049Z",
     "iopub.status.busy": "2021-05-18T13:36:31.443420Z",
     "iopub.status.idle": "2021-05-18T13:36:31.446222Z",
     "shell.execute_reply": "2021-05-18T13:36:31.445710Z"
    },
    "papermill": {
     "duration": 0.036474,
     "end_time": "2021-05-18T13:36:31.446349",
     "exception": false,
     "start_time": "2021-05-18T13:36:31.409875",
     "status": "completed"
    },
    "tags": []
   },
   "outputs": [],
   "source": [
    "# declear paython function\n",
    "\n",
    "def bar_plot(variable):\n",
    "    \"\"\"\n",
    "        input: variable e.g. SALES ORG\n",
    "        output: bar plot & value count\n",
    "    \"\"\"\n",
    "    # get feature\n",
    "    var = bikes_sales_data[variable]\n",
    "    #count numer of categorical variable(value/sample)\n",
    "    varValue = var.value_counts()\n",
    "    \n",
    "    #visualize\n",
    "    plt.figure(figsize=(9,3))\n",
    "    plt.bar(varValue.index,varValue)\n",
    "    plt.xticks(varValue.index, varValue.index.values)\n",
    "    plt.ylabel(\"Frequency\")\n",
    "    plt.title(variable)\n",
    "    plt.show()\n",
    "    print(\"{}: \\n {}\".format(variable,varValue))"
   ]
  },
  {
   "cell_type": "markdown",
   "metadata": {
    "papermill": {
     "duration": 0.026571,
     "end_time": "2021-05-18T13:36:31.500412",
     "exception": false,
     "start_time": "2021-05-18T13:36:31.473841",
     "status": "completed"
    },
    "tags": []
   },
   "source": [
    "Create Sales Org Category"
   ]
  },
  {
   "cell_type": "code",
   "execution_count": 10,
   "metadata": {
    "execution": {
     "iopub.execute_input": "2021-05-18T13:36:31.557883Z",
     "iopub.status.busy": "2021-05-18T13:36:31.557361Z",
     "iopub.status.idle": "2021-05-18T13:36:31.708445Z",
     "shell.execute_reply": "2021-05-18T13:36:31.707860Z"
    },
    "papermill": {
     "duration": 0.181151,
     "end_time": "2021-05-18T13:36:31.708583",
     "exception": false,
     "start_time": "2021-05-18T13:36:31.527432",
     "status": "completed"
    },
    "tags": []
   },
   "outputs": [
    {
     "data": {
      "image/png": "[encoded data removed]",
      "text/plain": [
       "<Figure size 648x216 with 1 Axes>"
      ]
     },
     "metadata": {
      "needs_background": "light"
     },
     "output_type": "display_data"
    },
    {
     "name": "stdout",
     "output_type": "stream",
     "text": [
      "SALESORG: \n",
      " EMEA    151\n",
      "AMER     95\n",
      "APJ      88\n",
      "Name: SALESORG, dtype: int64\n"
     ]
    }
   ],
   "source": [
    "SALESORG_CATEGORY= [\"SALESORG\"]\n",
    "for cat in SALESORG_CATEGORY:\n",
    "    bar_plot(cat)"
   ]
  },
  {
   "cell_type": "markdown",
   "metadata": {
    "papermill": {
     "duration": 0.028034,
     "end_time": "2021-05-18T13:36:31.764751",
     "exception": false,
     "start_time": "2021-05-18T13:36:31.736717",
     "status": "completed"
    },
    "tags": []
   },
   "source": [
    "EMA Sales Orgnization is having more sales transactions than other sales org."
   ]
  },
  {
   "cell_type": "markdown",
   "metadata": {
    "papermill": {
     "duration": 0.027718,
     "end_time": "2021-05-18T13:36:31.820047",
     "exception": false,
     "start_time": "2021-05-18T13:36:31.792329",
     "status": "completed"
    },
    "tags": []
   },
   "source": [
    "# Sales Per Sales Org (Top Sales Org)."
   ]
  },
  {
   "cell_type": "code",
   "execution_count": 11,
   "metadata": {
    "execution": {
     "iopub.execute_input": "2021-05-18T13:36:31.884645Z",
     "iopub.status.busy": "2021-05-18T13:36:31.884075Z",
     "iopub.status.idle": "2021-05-18T13:36:31.886523Z",
     "shell.execute_reply": "2021-05-18T13:36:31.887691Z"
    },
    "papermill": {
     "duration": 0.039482,
     "end_time": "2021-05-18T13:36:31.887915",
     "exception": false,
     "start_time": "2021-05-18T13:36:31.848433",
     "status": "completed"
    },
    "tags": []
   },
   "outputs": [
    {
     "name": "stdout",
     "output_type": "stream",
     "text": [
      "SALESORG\n",
      "AMER    5068454.125\n",
      "APJ     4908415.750\n",
      "EMEA    7902772.500\n",
      "Name: NETAMOUNT, dtype: float64\n"
     ]
    }
   ],
   "source": [
    "\n",
    "sorg_total_sales = bikes_sales_data.groupby('SALESORG')['NETAMOUNT'].sum()\n",
    "print(sorg_total_sales)\n"
   ]
  },
  {
   "cell_type": "markdown",
   "metadata": {
    "papermill": {
     "duration": 0.028258,
     "end_time": "2021-05-18T13:36:31.946488",
     "exception": false,
     "start_time": "2021-05-18T13:36:31.918230",
     "status": "completed"
    },
    "tags": []
   },
   "source": [
    "**another way for dispaly .**"
   ]
  },
  {
   "cell_type": "code",
   "execution_count": 12,
   "metadata": {
    "execution": {
     "iopub.execute_input": "2021-05-18T13:36:32.006222Z",
     "iopub.status.busy": "2021-05-18T13:36:32.005572Z",
     "iopub.status.idle": "2021-05-18T13:36:32.017510Z",
     "shell.execute_reply": "2021-05-18T13:36:32.016958Z"
    },
    "papermill": {
     "duration": 0.043181,
     "end_time": "2021-05-18T13:36:32.017644",
     "exception": false,
     "start_time": "2021-05-18T13:36:31.974463",
     "status": "completed"
    },
    "tags": []
   },
   "outputs": [
    {
     "data": {
      "text/html": [
       "<div>\n",
       "<style scoped>\n",
       "    .dataframe tbody tr th:only-of-type {\n",
       "        vertical-align: middle;\n",
       "    }\n",
       "\n",
       "    .dataframe tbody tr th {\n",
       "        vertical-align: top;\n",
       "    }\n",
       "\n",
       "    .dataframe thead th {\n",
       "        text-align: right;\n",
       "    }\n",
       "</style>\n",
       "<table border=\"1\" class=\"dataframe\">\n",
       "  <thead>\n",
       "    <tr style=\"text-align: right;\">\n",
       "      <th></th>\n",
       "      <th>NETAMOUNT</th>\n",
       "    </tr>\n",
       "    <tr>\n",
       "      <th>SALESORG</th>\n",
       "      <th></th>\n",
       "    </tr>\n",
       "  </thead>\n",
       "  <tbody>\n",
       "    <tr>\n",
       "      <th>AMER</th>\n",
       "      <td>5068454.125</td>\n",
       "    </tr>\n",
       "    <tr>\n",
       "      <th>APJ</th>\n",
       "      <td>4908415.750</td>\n",
       "    </tr>\n",
       "    <tr>\n",
       "      <th>EMEA</th>\n",
       "      <td>7902772.500</td>\n",
       "    </tr>\n",
       "  </tbody>\n",
       "</table>\n",
       "</div>"
      ],
      "text/plain": [
       "            NETAMOUNT\n",
       "SALESORG             \n",
       "AMER      5068454.125\n",
       "APJ       4908415.750\n",
       "EMEA      7902772.500"
      ]
     },
     "execution_count": 12,
     "metadata": {},
     "output_type": "execute_result"
    }
   ],
   "source": [
    "bikes_sales_data[['SALESORG','NETAMOUNT']].groupby('SALESORG').sum()"
   ]
  },
  {
   "cell_type": "code",
   "execution_count": 13,
   "metadata": {
    "execution": {
     "iopub.execute_input": "2021-05-18T13:36:32.079756Z",
     "iopub.status.busy": "2021-05-18T13:36:32.079195Z",
     "iopub.status.idle": "2021-05-18T13:36:32.228905Z",
     "shell.execute_reply": "2021-05-18T13:36:32.229339Z"
    },
    "papermill": {
     "duration": 0.181503,
     "end_time": "2021-05-18T13:36:32.229494",
     "exception": false,
     "start_time": "2021-05-18T13:36:32.047991",
     "status": "completed"
    },
    "tags": []
   },
   "outputs": [
    {
     "data": {
      "text/plain": [
       "<AxesSubplot:title={'center':'Sales Total Per Sales Org.'}, xlabel='SALESORG'>"
      ]
     },
     "execution_count": 13,
     "metadata": {},
     "output_type": "execute_result"
    },
    {
     "data": {
      "image/png": "[encoded data removed]",
      "text/plain": [
       "<Figure size 288x288 with 1 Axes>"
      ]
     },
     "metadata": {
      "needs_background": "light"
     },
     "output_type": "display_data"
    }
   ],
   "source": [
    "plt.figure(figsize=(4, 4)) # you can remove this line chart will be bigger \n",
    "plt.title('Sales Total Per Sales Org.')\n",
    "sorg_total_sales.plot(kind='bar')"
   ]
  },
  {
   "cell_type": "markdown",
   "metadata": {
    "papermill": {
     "duration": 0.029129,
     "end_time": "2021-05-18T13:36:32.288673",
     "exception": false,
     "start_time": "2021-05-18T13:36:32.259544",
     "status": "completed"
    },
    "tags": []
   },
   "source": [
    "# Pie Chart"
   ]
  },
  {
   "cell_type": "code",
   "execution_count": 14,
   "metadata": {
    "execution": {
     "iopub.execute_input": "2021-05-18T13:36:32.352926Z",
     "iopub.status.busy": "2021-05-18T13:36:32.352325Z",
     "iopub.status.idle": "2021-05-18T13:36:32.543839Z",
     "shell.execute_reply": "2021-05-18T13:36:32.543146Z"
    },
    "papermill": {
     "duration": 0.224374,
     "end_time": "2021-05-18T13:36:32.543970",
     "exception": false,
     "start_time": "2021-05-18T13:36:32.319596",
     "status": "completed"
    },
    "tags": []
   },
   "outputs": [
    {
     "data": {
      "text/plain": [
       "<AxesSubplot:ylabel='NETAMOUNT'>"
      ]
     },
     "execution_count": 14,
     "metadata": {},
     "output_type": "execute_result"
    },
    {
     "data": {
      "image/png": "[encoded data removed]",
      "text/plain": [
       "<Figure size 432x288 with 1 Axes>"
      ]
     },
     "metadata": {},
     "output_type": "display_data"
    }
   ],
   "source": [
    "#sorg_total_sales.plot(kind='pie')\n",
    "#sorg_total_sales.plot.pie()\n",
    "sorg_total_sales.plot.pie(autopct='%1.1f%%')"
   ]
  },
  {
   "cell_type": "markdown",
   "metadata": {
    "papermill": {
     "duration": 0.030377,
     "end_time": "2021-05-18T13:36:32.605601",
     "exception": false,
     "start_time": "2021-05-18T13:36:32.575224",
     "status": "completed"
    },
    "tags": []
   },
   "source": [
    "44.2% of sales are coming from EMEA"
   ]
  },
  {
   "cell_type": "markdown",
   "metadata": {
    "papermill": {
     "duration": 0.036226,
     "end_time": "2021-05-18T13:36:32.675059",
     "exception": false,
     "start_time": "2021-05-18T13:36:32.638833",
     "status": "completed"
    },
    "tags": []
   },
   "source": [
    "**Sort data by TOP sales org | **TOP sales value****"
   ]
  },
  {
   "cell_type": "code",
   "execution_count": 15,
   "metadata": {
    "execution": {
     "iopub.execute_input": "2021-05-18T13:36:32.748755Z",
     "iopub.status.busy": "2021-05-18T13:36:32.748100Z",
     "iopub.status.idle": "2021-05-18T13:36:32.751617Z",
     "shell.execute_reply": "2021-05-18T13:36:32.751127Z"
    },
    "papermill": {
     "duration": 0.045471,
     "end_time": "2021-05-18T13:36:32.751758",
     "exception": false,
     "start_time": "2021-05-18T13:36:32.706287",
     "status": "completed"
    },
    "tags": []
   },
   "outputs": [
    {
     "data": {
      "text/html": [
       "<div>\n",
       "<style scoped>\n",
       "    .dataframe tbody tr th:only-of-type {\n",
       "        vertical-align: middle;\n",
       "    }\n",
       "\n",
       "    .dataframe tbody tr th {\n",
       "        vertical-align: top;\n",
       "    }\n",
       "\n",
       "    .dataframe thead th {\n",
       "        text-align: right;\n",
       "    }\n",
       "</style>\n",
       "<table border=\"1\" class=\"dataframe\">\n",
       "  <thead>\n",
       "    <tr style=\"text-align: right;\">\n",
       "      <th></th>\n",
       "      <th>SALESORG</th>\n",
       "      <th>NETAMOUNT</th>\n",
       "    </tr>\n",
       "  </thead>\n",
       "  <tbody>\n",
       "    <tr>\n",
       "      <th>2</th>\n",
       "      <td>EMEA</td>\n",
       "      <td>7902772.500</td>\n",
       "    </tr>\n",
       "    <tr>\n",
       "      <th>0</th>\n",
       "      <td>AMER</td>\n",
       "      <td>5068454.125</td>\n",
       "    </tr>\n",
       "    <tr>\n",
       "      <th>1</th>\n",
       "      <td>APJ</td>\n",
       "      <td>4908415.750</td>\n",
       "    </tr>\n",
       "  </tbody>\n",
       "</table>\n",
       "</div>"
      ],
      "text/plain": [
       "  SALESORG    NETAMOUNT\n",
       "2     EMEA  7902772.500\n",
       "0     AMER  5068454.125\n",
       "1      APJ  4908415.750"
      ]
     },
     "execution_count": 15,
     "metadata": {},
     "output_type": "execute_result"
    }
   ],
   "source": [
    "sorg_total_sales = sorg_total_sales.reset_index()\n",
    "sorg_total_sales.sort_values(by='NETAMOUNT', ascending=False)\n"
   ]
  },
  {
   "cell_type": "markdown",
   "metadata": {
    "papermill": {
     "duration": 0.032252,
     "end_time": "2021-05-18T13:36:32.818827",
     "exception": false,
     "start_time": "2021-05-18T13:36:32.786575",
     "status": "completed"
    },
    "tags": []
   },
   "source": [
    "**Conclusion:** EMEA Sales Orgnization is the best sales org. (value + transactions)"
   ]
  },
  {
   "cell_type": "markdown",
   "metadata": {
    "papermill": {
     "duration": 0.029988,
     "end_time": "2021-05-18T13:36:32.880405",
     "exception": false,
     "start_time": "2021-05-18T13:36:32.850417",
     "status": "completed"
    },
    "tags": []
   },
   "source": [
    "# Sales Total Per Year (Best Year Sales)."
   ]
  },
  {
   "cell_type": "code",
   "execution_count": 16,
   "metadata": {
    "execution": {
     "iopub.execute_input": "2021-05-18T13:36:32.954749Z",
     "iopub.status.busy": "2021-05-18T13:36:32.954139Z",
     "iopub.status.idle": "2021-05-18T13:36:32.956864Z",
     "shell.execute_reply": "2021-05-18T13:36:32.956300Z"
    },
    "papermill": {
     "duration": 0.044129,
     "end_time": "2021-05-18T13:36:32.956995",
     "exception": false,
     "start_time": "2021-05-18T13:36:32.912866",
     "status": "completed"
    },
    "tags": []
   },
   "outputs": [],
   "source": [
    "year_total_sales = bikes_sales_data[['CREATEDAT','NETAMOUNT']].groupby('CREATEDAT').sum()\n"
   ]
  },
  {
   "cell_type": "code",
   "execution_count": 17,
   "metadata": {
    "execution": {
     "iopub.execute_input": "2021-05-18T13:36:33.032055Z",
     "iopub.status.busy": "2021-05-18T13:36:33.031464Z",
     "iopub.status.idle": "2021-05-18T13:36:33.035675Z",
     "shell.execute_reply": "2021-05-18T13:36:33.035069Z"
    },
    "papermill": {
     "duration": 0.047598,
     "end_time": "2021-05-18T13:36:33.035822",
     "exception": false,
     "start_time": "2021-05-18T13:36:32.988224",
     "status": "completed"
    },
    "tags": []
   },
   "outputs": [
    {
     "data": {
      "text/html": [
       "<div>\n",
       "<style scoped>\n",
       "    .dataframe tbody tr th:only-of-type {\n",
       "        vertical-align: middle;\n",
       "    }\n",
       "\n",
       "    .dataframe tbody tr th {\n",
       "        vertical-align: top;\n",
       "    }\n",
       "\n",
       "    .dataframe thead th {\n",
       "        text-align: right;\n",
       "    }\n",
       "</style>\n",
       "<table border=\"1\" class=\"dataframe\">\n",
       "  <thead>\n",
       "    <tr style=\"text-align: right;\">\n",
       "      <th></th>\n",
       "      <th>NETAMOUNT</th>\n",
       "    </tr>\n",
       "    <tr>\n",
       "      <th>CREATEDAT</th>\n",
       "      <th></th>\n",
       "    </tr>\n",
       "  </thead>\n",
       "  <tbody>\n",
       "    <tr>\n",
       "      <th>20180111</th>\n",
       "      <td>11888.625</td>\n",
       "    </tr>\n",
       "    <tr>\n",
       "      <th>20180112</th>\n",
       "      <td>11044.250</td>\n",
       "    </tr>\n",
       "    <tr>\n",
       "      <th>20180115</th>\n",
       "      <td>129010.875</td>\n",
       "    </tr>\n",
       "    <tr>\n",
       "      <th>20180116</th>\n",
       "      <td>153909.875</td>\n",
       "    </tr>\n",
       "    <tr>\n",
       "      <th>20180117</th>\n",
       "      <td>152238.625</td>\n",
       "    </tr>\n",
       "    <tr>\n",
       "      <th>...</th>\n",
       "      <td>...</td>\n",
       "    </tr>\n",
       "    <tr>\n",
       "      <th>20190618</th>\n",
       "      <td>9639.000</td>\n",
       "    </tr>\n",
       "    <tr>\n",
       "      <th>20190619</th>\n",
       "      <td>79293.375</td>\n",
       "    </tr>\n",
       "    <tr>\n",
       "      <th>20190622</th>\n",
       "      <td>99637.125</td>\n",
       "    </tr>\n",
       "    <tr>\n",
       "      <th>20190625</th>\n",
       "      <td>11106.375</td>\n",
       "    </tr>\n",
       "    <tr>\n",
       "      <th>20190627</th>\n",
       "      <td>76216.000</td>\n",
       "    </tr>\n",
       "  </tbody>\n",
       "</table>\n",
       "<p>264 rows × 1 columns</p>\n",
       "</div>"
      ],
      "text/plain": [
       "            NETAMOUNT\n",
       "CREATEDAT            \n",
       "20180111    11888.625\n",
       "20180112    11044.250\n",
       "20180115   129010.875\n",
       "20180116   153909.875\n",
       "20180117   152238.625\n",
       "...               ...\n",
       "20190618     9639.000\n",
       "20190619    79293.375\n",
       "20190622    99637.125\n",
       "20190625    11106.375\n",
       "20190627    76216.000\n",
       "\n",
       "[264 rows x 1 columns]"
      ]
     },
     "execution_count": 17,
     "metadata": {},
     "output_type": "execute_result"
    }
   ],
   "source": [
    "year_total_sales"
   ]
  },
  {
   "cell_type": "code",
   "execution_count": 18,
   "metadata": {
    "execution": {
     "iopub.execute_input": "2021-05-18T13:36:33.106864Z",
     "iopub.status.busy": "2021-05-18T13:36:33.106328Z",
     "iopub.status.idle": "2021-05-18T13:36:33.109494Z",
     "shell.execute_reply": "2021-05-18T13:36:33.108967Z"
    },
    "papermill": {
     "duration": 0.040448,
     "end_time": "2021-05-18T13:36:33.109636",
     "exception": false,
     "start_time": "2021-05-18T13:36:33.069188",
     "status": "completed"
    },
    "tags": []
   },
   "outputs": [],
   "source": [
    "#Remove index\n",
    "year_total_sales_no_index = bikes_sales_data[['CREATEDAT','NETAMOUNT']]"
   ]
  },
  {
   "cell_type": "code",
   "execution_count": 19,
   "metadata": {
    "execution": {
     "iopub.execute_input": "2021-05-18T13:36:33.176825Z",
     "iopub.status.busy": "2021-05-18T13:36:33.176303Z",
     "iopub.status.idle": "2021-05-18T13:36:33.186802Z",
     "shell.execute_reply": "2021-05-18T13:36:33.187299Z"
    },
    "papermill": {
     "duration": 0.046446,
     "end_time": "2021-05-18T13:36:33.187443",
     "exception": false,
     "start_time": "2021-05-18T13:36:33.140997",
     "status": "completed"
    },
    "tags": []
   },
   "outputs": [
    {
     "data": {
      "text/html": [
       "<div>\n",
       "<style scoped>\n",
       "    .dataframe tbody tr th:only-of-type {\n",
       "        vertical-align: middle;\n",
       "    }\n",
       "\n",
       "    .dataframe tbody tr th {\n",
       "        vertical-align: top;\n",
       "    }\n",
       "\n",
       "    .dataframe thead th {\n",
       "        text-align: right;\n",
       "    }\n",
       "</style>\n",
       "<table border=\"1\" class=\"dataframe\">\n",
       "  <thead>\n",
       "    <tr style=\"text-align: right;\">\n",
       "      <th></th>\n",
       "      <th>CREATEDAT</th>\n",
       "      <th>NETAMOUNT</th>\n",
       "    </tr>\n",
       "  </thead>\n",
       "  <tbody>\n",
       "    <tr>\n",
       "      <th>0</th>\n",
       "      <td>20180111</td>\n",
       "      <td>11888.625</td>\n",
       "    </tr>\n",
       "    <tr>\n",
       "      <th>1</th>\n",
       "      <td>20180112</td>\n",
       "      <td>11044.250</td>\n",
       "    </tr>\n",
       "    <tr>\n",
       "      <th>2</th>\n",
       "      <td>20180115</td>\n",
       "      <td>39948.125</td>\n",
       "    </tr>\n",
       "    <tr>\n",
       "      <th>3</th>\n",
       "      <td>20180115</td>\n",
       "      <td>89062.750</td>\n",
       "    </tr>\n",
       "    <tr>\n",
       "      <th>4</th>\n",
       "      <td>20180116</td>\n",
       "      <td>62723.500</td>\n",
       "    </tr>\n",
       "    <tr>\n",
       "      <th>...</th>\n",
       "      <td>...</td>\n",
       "      <td>...</td>\n",
       "    </tr>\n",
       "    <tr>\n",
       "      <th>329</th>\n",
       "      <td>20190619</td>\n",
       "      <td>79293.375</td>\n",
       "    </tr>\n",
       "    <tr>\n",
       "      <th>330</th>\n",
       "      <td>20190622</td>\n",
       "      <td>99637.125</td>\n",
       "    </tr>\n",
       "    <tr>\n",
       "      <th>331</th>\n",
       "      <td>20190625</td>\n",
       "      <td>11106.375</td>\n",
       "    </tr>\n",
       "    <tr>\n",
       "      <th>332</th>\n",
       "      <td>20190627</td>\n",
       "      <td>61712.000</td>\n",
       "    </tr>\n",
       "    <tr>\n",
       "      <th>333</th>\n",
       "      <td>20190627</td>\n",
       "      <td>14504.000</td>\n",
       "    </tr>\n",
       "  </tbody>\n",
       "</table>\n",
       "<p>334 rows × 2 columns</p>\n",
       "</div>"
      ],
      "text/plain": [
       "     CREATEDAT  NETAMOUNT\n",
       "0     20180111  11888.625\n",
       "1     20180112  11044.250\n",
       "2     20180115  39948.125\n",
       "3     20180115  89062.750\n",
       "4     20180116  62723.500\n",
       "..         ...        ...\n",
       "329   20190619  79293.375\n",
       "330   20190622  99637.125\n",
       "331   20190625  11106.375\n",
       "332   20190627  61712.000\n",
       "333   20190627  14504.000\n",
       "\n",
       "[334 rows x 2 columns]"
      ]
     },
     "execution_count": 19,
     "metadata": {},
     "output_type": "execute_result"
    }
   ],
   "source": [
    "year_total_sales_no_index"
   ]
  },
  {
   "cell_type": "markdown",
   "metadata": {
    "papermill": {
     "duration": 0.032085,
     "end_time": "2021-05-18T13:36:33.252003",
     "exception": false,
     "start_time": "2021-05-18T13:36:33.219918",
     "status": "completed"
    },
    "tags": []
   },
   "source": [
    "****SAP save date as integer :)  2018-01-11 = 20180111"
   ]
  },
  {
   "cell_type": "code",
   "execution_count": 20,
   "metadata": {
    "execution": {
     "iopub.execute_input": "2021-05-18T13:36:33.321415Z",
     "iopub.status.busy": "2021-05-18T13:36:33.320836Z",
     "iopub.status.idle": "2021-05-18T13:36:33.326426Z",
     "shell.execute_reply": "2021-05-18T13:36:33.325933Z"
    },
    "papermill": {
     "duration": 0.040802,
     "end_time": "2021-05-18T13:36:33.326558",
     "exception": false,
     "start_time": "2021-05-18T13:36:33.285756",
     "status": "completed"
    },
    "tags": []
   },
   "outputs": [
    {
     "name": "stdout",
     "output_type": "stream",
     "text": [
      "<class 'numpy.int64'>\n",
      "<class 'numpy.float64'>\n"
     ]
    }
   ],
   "source": [
    "#Check column data type\n",
    "for col in year_total_sales_no_index:\n",
    "    print (type(year_total_sales_no_index[col][1]))"
   ]
  },
  {
   "cell_type": "markdown",
   "metadata": {
    "papermill": {
     "duration": 0.033016,
     "end_time": "2021-05-18T13:36:33.391674",
     "exception": false,
     "start_time": "2021-05-18T13:36:33.358658",
     "status": "completed"
    },
    "tags": []
   },
   "source": [
    "**Convert CREATEDAT values from integer to string**"
   ]
  },
  {
   "cell_type": "code",
   "execution_count": 21,
   "metadata": {
    "execution": {
     "iopub.execute_input": "2021-05-18T13:36:33.464362Z",
     "iopub.status.busy": "2021-05-18T13:36:33.463774Z",
     "iopub.status.idle": "2021-05-18T13:36:33.467021Z",
     "shell.execute_reply": "2021-05-18T13:36:33.467431Z"
    },
    "papermill": {
     "duration": 0.041996,
     "end_time": "2021-05-18T13:36:33.467576",
     "exception": false,
     "start_time": "2021-05-18T13:36:33.425580",
     "status": "completed"
    },
    "tags": []
   },
   "outputs": [
    {
     "name": "stderr",
     "output_type": "stream",
     "text": [
      "/opt/conda/lib/python3.7/site-packages/ipykernel_launcher.py:2: SettingWithCopyWarning: \n",
      "A value is trying to be set on a copy of a slice from a DataFrame.\n",
      "Try using .loc[row_indexer,col_indexer] = value instead\n",
      "\n",
      "See the caveats in the documentation: https://pandas.pydata.org/pandas-docs/stable/user_guide/indexing.html#returning-a-view-versus-a-copy\n",
      "  \n"
     ]
    }
   ],
   "source": [
    "# Convert integer to Python string\n",
    "year_total_sales_no_index['CREATEDAT'] = year_total_sales_no_index.CREATEDAT.astype('str')\n",
    "#year_total_sales_no_index['NETAMOUNT'] = year_total_sales_no_index.CREATEDAT.astype('float')"
   ]
  },
  {
   "cell_type": "markdown",
   "metadata": {
    "papermill": {
     "duration": 0.032256,
     "end_time": "2021-05-18T13:36:33.532855",
     "exception": false,
     "start_time": "2021-05-18T13:36:33.500599",
     "status": "completed"
    },
    "tags": []
   },
   "source": [
    "**check if the CREATEDAT data type converted to string type**"
   ]
  },
  {
   "cell_type": "code",
   "execution_count": 22,
   "metadata": {
    "execution": {
     "iopub.execute_input": "2021-05-18T13:36:33.602847Z",
     "iopub.status.busy": "2021-05-18T13:36:33.602260Z",
     "iopub.status.idle": "2021-05-18T13:36:33.605495Z",
     "shell.execute_reply": "2021-05-18T13:36:33.605910Z"
    },
    "papermill": {
     "duration": 0.040155,
     "end_time": "2021-05-18T13:36:33.606041",
     "exception": false,
     "start_time": "2021-05-18T13:36:33.565886",
     "status": "completed"
    },
    "tags": []
   },
   "outputs": [
    {
     "name": "stdout",
     "output_type": "stream",
     "text": [
      "<class 'str'>\n",
      "<class 'numpy.float64'>\n"
     ]
    }
   ],
   "source": [
    "for col in year_total_sales_no_index:\n",
    "    print (type(year_total_sales_no_index[col][1]))"
   ]
  },
  {
   "cell_type": "code",
   "execution_count": 23,
   "metadata": {
    "execution": {
     "iopub.execute_input": "2021-05-18T13:36:33.698089Z",
     "iopub.status.busy": "2021-05-18T13:36:33.682683Z",
     "iopub.status.idle": "2021-05-18T13:36:33.710520Z",
     "shell.execute_reply": "2021-05-18T13:36:33.710108Z"
    },
    "papermill": {
     "duration": 0.071424,
     "end_time": "2021-05-18T13:36:33.710636",
     "exception": false,
     "start_time": "2021-05-18T13:36:33.639212",
     "status": "completed"
    },
    "tags": []
   },
   "outputs": [],
   "source": [
    "# Substring Year from Date\n",
    "for index_label, row_series in year_total_sales_no_index.iterrows():\n",
    "    string = row_series['CREATEDAT']   \n",
    "    year_total_sales_no_index.at[index_label , 'CREATEDAT'] = string[0:4]\n",
    "    "
   ]
  },
  {
   "cell_type": "code",
   "execution_count": 24,
   "metadata": {
    "execution": {
     "iopub.execute_input": "2021-05-18T13:36:33.790379Z",
     "iopub.status.busy": "2021-05-18T13:36:33.789507Z",
     "iopub.status.idle": "2021-05-18T13:36:33.793891Z",
     "shell.execute_reply": "2021-05-18T13:36:33.793308Z"
    },
    "papermill": {
     "duration": 0.049118,
     "end_time": "2021-05-18T13:36:33.794018",
     "exception": false,
     "start_time": "2021-05-18T13:36:33.744900",
     "status": "completed"
    },
    "tags": []
   },
   "outputs": [
    {
     "data": {
      "text/html": [
       "<div>\n",
       "<style scoped>\n",
       "    .dataframe tbody tr th:only-of-type {\n",
       "        vertical-align: middle;\n",
       "    }\n",
       "\n",
       "    .dataframe tbody tr th {\n",
       "        vertical-align: top;\n",
       "    }\n",
       "\n",
       "    .dataframe thead th {\n",
       "        text-align: right;\n",
       "    }\n",
       "</style>\n",
       "<table border=\"1\" class=\"dataframe\">\n",
       "  <thead>\n",
       "    <tr style=\"text-align: right;\">\n",
       "      <th></th>\n",
       "      <th>CREATEDAT</th>\n",
       "      <th>NETAMOUNT</th>\n",
       "    </tr>\n",
       "  </thead>\n",
       "  <tbody>\n",
       "    <tr>\n",
       "      <th>0</th>\n",
       "      <td>2018</td>\n",
       "      <td>11888.625</td>\n",
       "    </tr>\n",
       "    <tr>\n",
       "      <th>1</th>\n",
       "      <td>2018</td>\n",
       "      <td>11044.250</td>\n",
       "    </tr>\n",
       "    <tr>\n",
       "      <th>2</th>\n",
       "      <td>2018</td>\n",
       "      <td>39948.125</td>\n",
       "    </tr>\n",
       "    <tr>\n",
       "      <th>3</th>\n",
       "      <td>2018</td>\n",
       "      <td>89062.750</td>\n",
       "    </tr>\n",
       "    <tr>\n",
       "      <th>4</th>\n",
       "      <td>2018</td>\n",
       "      <td>62723.500</td>\n",
       "    </tr>\n",
       "    <tr>\n",
       "      <th>...</th>\n",
       "      <td>...</td>\n",
       "      <td>...</td>\n",
       "    </tr>\n",
       "    <tr>\n",
       "      <th>329</th>\n",
       "      <td>2019</td>\n",
       "      <td>79293.375</td>\n",
       "    </tr>\n",
       "    <tr>\n",
       "      <th>330</th>\n",
       "      <td>2019</td>\n",
       "      <td>99637.125</td>\n",
       "    </tr>\n",
       "    <tr>\n",
       "      <th>331</th>\n",
       "      <td>2019</td>\n",
       "      <td>11106.375</td>\n",
       "    </tr>\n",
       "    <tr>\n",
       "      <th>332</th>\n",
       "      <td>2019</td>\n",
       "      <td>61712.000</td>\n",
       "    </tr>\n",
       "    <tr>\n",
       "      <th>333</th>\n",
       "      <td>2019</td>\n",
       "      <td>14504.000</td>\n",
       "    </tr>\n",
       "  </tbody>\n",
       "</table>\n",
       "<p>334 rows × 2 columns</p>\n",
       "</div>"
      ],
      "text/plain": [
       "    CREATEDAT  NETAMOUNT\n",
       "0        2018  11888.625\n",
       "1        2018  11044.250\n",
       "2        2018  39948.125\n",
       "3        2018  89062.750\n",
       "4        2018  62723.500\n",
       "..        ...        ...\n",
       "329      2019  79293.375\n",
       "330      2019  99637.125\n",
       "331      2019  11106.375\n",
       "332      2019  61712.000\n",
       "333      2019  14504.000\n",
       "\n",
       "[334 rows x 2 columns]"
      ]
     },
     "execution_count": 24,
     "metadata": {},
     "output_type": "execute_result"
    }
   ],
   "source": [
    "year_total_sales_no_index"
   ]
  },
  {
   "cell_type": "markdown",
   "metadata": {
    "papermill": {
     "duration": 0.032835,
     "end_time": "2021-05-18T13:36:33.864386",
     "exception": false,
     "start_time": "2021-05-18T13:36:33.831551",
     "status": "completed"
    },
    "tags": []
   },
   "source": [
    "# Draw Histogram for sales orders amount"
   ]
  },
  {
   "cell_type": "code",
   "execution_count": 25,
   "metadata": {
    "execution": {
     "iopub.execute_input": "2021-05-18T13:36:33.936696Z",
     "iopub.status.busy": "2021-05-18T13:36:33.936131Z",
     "iopub.status.idle": "2021-05-18T13:36:34.082923Z",
     "shell.execute_reply": "2021-05-18T13:36:34.083377Z"
    },
    "papermill": {
     "duration": 0.186925,
     "end_time": "2021-05-18T13:36:34.083539",
     "exception": false,
     "start_time": "2021-05-18T13:36:33.896614",
     "status": "completed"
    },
    "tags": []
   },
   "outputs": [
    {
     "data": {
      "text/plain": [
       "<AxesSubplot:>"
      ]
     },
     "execution_count": 25,
     "metadata": {},
     "output_type": "execute_result"
    },
    {
     "data": {
      "image/png": "[encoded data removed]",
      "text/plain": [
       "<Figure size 432x288 with 1 Axes>"
      ]
     },
     "metadata": {
      "needs_background": "light"
     },
     "output_type": "display_data"
    }
   ],
   "source": [
    "year_total_sales_no_index.NETAMOUNT.hist()\n"
   ]
  },
  {
   "cell_type": "code",
   "execution_count": 26,
   "metadata": {
    "execution": {
     "iopub.execute_input": "2021-05-18T13:36:34.157346Z",
     "iopub.status.busy": "2021-05-18T13:36:34.156742Z",
     "iopub.status.idle": "2021-05-18T13:36:34.167557Z",
     "shell.execute_reply": "2021-05-18T13:36:34.167990Z"
    },
    "papermill": {
     "duration": 0.049846,
     "end_time": "2021-05-18T13:36:34.168137",
     "exception": false,
     "start_time": "2021-05-18T13:36:34.118291",
     "status": "completed"
    },
    "tags": []
   },
   "outputs": [
    {
     "data": {
      "text/html": [
       "<div>\n",
       "<style scoped>\n",
       "    .dataframe tbody tr th:only-of-type {\n",
       "        vertical-align: middle;\n",
       "    }\n",
       "\n",
       "    .dataframe tbody tr th {\n",
       "        vertical-align: top;\n",
       "    }\n",
       "\n",
       "    .dataframe thead th {\n",
       "        text-align: right;\n",
       "    }\n",
       "</style>\n",
       "<table border=\"1\" class=\"dataframe\">\n",
       "  <thead>\n",
       "    <tr style=\"text-align: right;\">\n",
       "      <th></th>\n",
       "      <th>NETAMOUNT</th>\n",
       "    </tr>\n",
       "    <tr>\n",
       "      <th>CREATEDAT</th>\n",
       "      <th></th>\n",
       "    </tr>\n",
       "  </thead>\n",
       "  <tbody>\n",
       "    <tr>\n",
       "      <th>2018</th>\n",
       "      <td>1.184117e+07</td>\n",
       "    </tr>\n",
       "    <tr>\n",
       "      <th>2019</th>\n",
       "      <td>6.038468e+06</td>\n",
       "    </tr>\n",
       "  </tbody>\n",
       "</table>\n",
       "</div>"
      ],
      "text/plain": [
       "              NETAMOUNT\n",
       "CREATEDAT              \n",
       "2018       1.184117e+07\n",
       "2019       6.038468e+06"
      ]
     },
     "execution_count": 26,
     "metadata": {},
     "output_type": "execute_result"
    }
   ],
   "source": [
    "year_total_sales_no_index = year_total_sales_no_index[['CREATEDAT','NETAMOUNT']].groupby('CREATEDAT').sum()\n",
    "year_total_sales_no_index"
   ]
  },
  {
   "cell_type": "code",
   "execution_count": 27,
   "metadata": {
    "execution": {
     "iopub.execute_input": "2021-05-18T13:36:34.242655Z",
     "iopub.status.busy": "2021-05-18T13:36:34.242110Z",
     "iopub.status.idle": "2021-05-18T13:36:34.248417Z",
     "shell.execute_reply": "2021-05-18T13:36:34.248824Z"
    },
    "papermill": {
     "duration": 0.045276,
     "end_time": "2021-05-18T13:36:34.248959",
     "exception": false,
     "start_time": "2021-05-18T13:36:34.203683",
     "status": "completed"
    },
    "tags": []
   },
   "outputs": [
    {
     "data": {
      "text/plain": [
       "CREATEDAT\n",
       "2018    11841174.625\n",
       "2019     6038467.750\n",
       "dtype: object"
      ]
     },
     "execution_count": 27,
     "metadata": {},
     "output_type": "execute_result"
    }
   ],
   "source": [
    "# suppress scientific notation in Pandas 1.184117e+07 to show as 11841174.625\n",
    "year_total_sales_no_index.apply(lambda x: '%.5f' % x, axis=1)\n",
    "\n"
   ]
  },
  {
   "cell_type": "code",
   "execution_count": 28,
   "metadata": {
    "execution": {
     "iopub.execute_input": "2021-05-18T13:36:34.322291Z",
     "iopub.status.busy": "2021-05-18T13:36:34.321786Z",
     "iopub.status.idle": "2021-05-18T13:36:34.447133Z",
     "shell.execute_reply": "2021-05-18T13:36:34.447530Z"
    },
    "papermill": {
     "duration": 0.163114,
     "end_time": "2021-05-18T13:36:34.447687",
     "exception": false,
     "start_time": "2021-05-18T13:36:34.284573",
     "status": "completed"
    },
    "tags": []
   },
   "outputs": [
    {
     "data": {
      "text/plain": [
       "<AxesSubplot:title={'center':'Sales Total Per Year'}, xlabel='CREATEDAT'>"
      ]
     },
     "execution_count": 28,
     "metadata": {},
     "output_type": "execute_result"
    },
    {
     "data": {
      "image/png": "[encoded data removed]",
      "text/plain": [
       "<Figure size 432x288 with 1 Axes>"
      ]
     },
     "metadata": {
      "needs_background": "light"
     },
     "output_type": "display_data"
    }
   ],
   "source": [
    "year_total_sales_no_index.plot(kind='bar', title=\"Sales Total Per Year\")"
   ]
  },
  {
   "cell_type": "code",
   "execution_count": 29,
   "metadata": {
    "execution": {
     "iopub.execute_input": "2021-05-18T13:36:34.522205Z",
     "iopub.status.busy": "2021-05-18T13:36:34.521659Z",
     "iopub.status.idle": "2021-05-18T13:36:34.657336Z",
     "shell.execute_reply": "2021-05-18T13:36:34.657998Z"
    },
    "papermill": {
     "duration": 0.174595,
     "end_time": "2021-05-18T13:36:34.658262",
     "exception": false,
     "start_time": "2021-05-18T13:36:34.483667",
     "status": "completed"
    },
    "tags": []
   },
   "outputs": [
    {
     "data": {
      "text/plain": [
       "array([<AxesSubplot:ylabel='NETAMOUNT'>], dtype=object)"
      ]
     },
     "execution_count": 29,
     "metadata": {},
     "output_type": "execute_result"
    },
    {
     "data": {
      "image/png": "[encoded data removed]",
      "text/plain": [
       "<Figure size 432x288 with 1 Axes>"
      ]
     },
     "metadata": {},
     "output_type": "display_data"
    }
   ],
   "source": [
    "year_total_sales_no_index.plot.pie(autopct='%1.1f%%', subplots=True)"
   ]
  },
  {
   "cell_type": "code",
   "execution_count": 30,
   "metadata": {
    "execution": {
     "iopub.execute_input": "2021-05-18T13:36:34.756462Z",
     "iopub.status.busy": "2021-05-18T13:36:34.755582Z",
     "iopub.status.idle": "2021-05-18T13:36:34.873133Z",
     "shell.execute_reply": "2021-05-18T13:36:34.873559Z"
    },
    "papermill": {
     "duration": 0.167469,
     "end_time": "2021-05-18T13:36:34.873729",
     "exception": false,
     "start_time": "2021-05-18T13:36:34.706260",
     "status": "completed"
    },
    "tags": []
   },
   "outputs": [
    {
     "name": "stderr",
     "output_type": "stream",
     "text": [
      "/opt/conda/lib/python3.7/site-packages/seaborn/_decorators.py:43: FutureWarning: Pass the following variable as a keyword arg: x. From version 0.12, the only valid positional argument will be `data`, and passing other arguments without an explicit keyword will result in an error or misinterpretation.\n",
      "  FutureWarning\n"
     ]
    },
    {
     "data": {
      "text/plain": [
       "<AxesSubplot:xlabel='NETAMOUNT'>"
      ]
     },
     "execution_count": 30,
     "metadata": {},
     "output_type": "execute_result"
    },
    {
     "data": {
      "image/png": "[encoded data removed]",
      "text/plain": [
       "<Figure size 432x288 with 1 Axes>"
      ]
     },
     "metadata": {
      "needs_background": "light"
     },
     "output_type": "display_data"
    }
   ],
   "source": [
    "sns.boxplot(year_total_sales_no_index.NETAMOUNT)\n"
   ]
  },
  {
   "cell_type": "markdown",
   "metadata": {
    "papermill": {
     "duration": 0.038324,
     "end_time": "2021-05-18T13:36:34.951458",
     "exception": false,
     "start_time": "2021-05-18T13:36:34.913134",
     "status": "completed"
    },
    "tags": []
   },
   "source": [
    "**Please consider upvoting if you found it useful to you :)**\n",
    "\n",
    "**Thanks.**"
   ]
  }
 ],
 "metadata": {
  "kernelspec": {
   "display_name": "Python 3",
   "language": "python",
   "name": "python3"
  },
  "language_info": {
   "codemirror_mode": {
    "name": "ipython",
    "version": 3
   },
   "file_extension": ".py",
   "mimetype": "text/x-python",
   "name": "python",
   "nbconvert_exporter": "python",
   "pygments_lexer": "ipython3",
   "version": "3.7.9"
  },
  "papermill": {
   "default_parameters": {},
   "duration": 11.074216,
   "end_time": "2021-05-18T13:36:35.498159",
   "environment_variables": {},
   "exception": null,
   "input_path": "__notebook__.ipynb",
   "output_path": "__notebook__.ipynb",
   "parameters": {},
   "start_time": "2021-05-18T13:36:24.423943",
   "version": "2.2.2"
  }
 },
 "nbformat": 4,
 "nbformat_minor": 4
}
