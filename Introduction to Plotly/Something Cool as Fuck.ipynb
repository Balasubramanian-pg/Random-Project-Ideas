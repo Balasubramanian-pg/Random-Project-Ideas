{
 "cells": [
  {
   "cell_type": "code",
   "execution_count": 3,
   "metadata": {},
   "outputs": [
    {
     "name": "stdout",
     "output_type": "stream",
     "text": [
      "Collecting nbformat\n",
      "  Downloading nbformat-5.10.4-py3-none-any.whl.metadata (3.6 kB)\n",
      "Collecting fastjsonschema>=2.15 (from nbformat)\n",
      "  Downloading fastjsonschema-2.20.0-py3-none-any.whl.metadata (2.1 kB)\n",
      "Collecting jsonschema>=2.6 (from nbformat)\n",
      "  Downloading jsonschema-4.23.0-py3-none-any.whl.metadata (7.9 kB)\n",
      "Requirement already satisfied: jupyter-core!=5.0.*,>=4.12 in c:\\users\\asus\\appdata\\roaming\\python\\python312\\site-packages (from nbformat) (5.7.2)\n",
      "Requirement already satisfied: traitlets>=5.1 in c:\\users\\asus\\appdata\\roaming\\python\\python312\\site-packages (from nbformat) (5.14.3)\n",
      "Collecting attrs>=22.2.0 (from jsonschema>=2.6->nbformat)\n",
      "  Downloading attrs-24.2.0-py3-none-any.whl.metadata (11 kB)\n",
      "Collecting jsonschema-specifications>=2023.03.6 (from jsonschema>=2.6->nbformat)\n",
      "  Downloading jsonschema_specifications-2024.10.1-py3-none-any.whl.metadata (3.0 kB)\n",
      "Collecting referencing>=0.28.4 (from jsonschema>=2.6->nbformat)\n",
      "  Downloading referencing-0.35.1-py3-none-any.whl.metadata (2.8 kB)\n",
      "Collecting rpds-py>=0.7.1 (from jsonschema>=2.6->nbformat)\n",
      "  Downloading rpds_py-0.21.0-cp312-none-win_amd64.whl.metadata (4.2 kB)\n",
      "Requirement already satisfied: platformdirs>=2.5 in c:\\users\\asus\\appdata\\roaming\\python\\python312\\site-packages (from jupyter-core!=5.0.*,>=4.12->nbformat) (4.2.2)\n",
      "Requirement already satisfied: pywin32>=300 in c:\\users\\asus\\appdata\\roaming\\python\\python312\\site-packages (from jupyter-core!=5.0.*,>=4.12->nbformat) (306)\n",
      "Downloading nbformat-5.10.4-py3-none-any.whl (78 kB)\n",
      "Downloading fastjsonschema-2.20.0-py3-none-any.whl (23 kB)\n",
      "Downloading jsonschema-4.23.0-py3-none-any.whl (88 kB)\n",
      "Downloading attrs-24.2.0-py3-none-any.whl (63 kB)\n",
      "Downloading jsonschema_specifications-2024.10.1-py3-none-any.whl (18 kB)\n",
      "Downloading referencing-0.35.1-py3-none-any.whl (26 kB)\n",
      "Downloading rpds_py-0.21.0-cp312-none-win_amd64.whl (220 kB)\n",
      "Installing collected packages: fastjsonschema, rpds-py, attrs, referencing, jsonschema-specifications, jsonschema, nbformat\n",
      "Successfully installed attrs-24.2.0 fastjsonschema-2.20.0 jsonschema-4.23.0 jsonschema-specifications-2024.10.1 nbformat-5.10.4 referencing-0.35.1 rpds-py-0.21.0\n",
      "Note: you may need to restart the kernel to use updated packages.\n"
     ]
    },
    {
     "name": "stderr",
     "output_type": "stream",
     "text": [
      "  WARNING: The script jsonschema.exe is installed in 'c:\\Users\\ASUS\\AppData\\Local\\Programs\\Python\\Python312\\Scripts' which is not on PATH.\n",
      "  Consider adding this directory to PATH or, if you prefer to suppress this warning, use --no-warn-script-location.\n",
      "  WARNING: The script jupyter-trust.exe is installed in 'c:\\Users\\ASUS\\AppData\\Local\\Programs\\Python\\Python312\\Scripts' which is not on PATH.\n",
      "  Consider adding this directory to PATH or, if you prefer to suppress this warning, use --no-warn-script-location.\n",
      "\n",
      "[notice] A new release of pip is available: 24.2 -> 24.3.1\n",
      "[notice] To update, run: python.exe -m pip install --upgrade pip\n"
     ]
    }
   ],
   "source": [
    "pip install nbformat"
   ]
  },
  {
   "cell_type": "code",
   "execution_count": 1,
   "metadata": {},
   "outputs": [
    {
     "name": "stdout",
     "output_type": "stream",
     "text": [
      "Requirement already satisfied: plotly in c:\\users\\asus\\appdata\\local\\programs\\python\\python312\\lib\\site-packages (5.24.1)\n",
      "Requirement already satisfied: tenacity>=6.2.0 in c:\\users\\asus\\appdata\\local\\programs\\python\\python312\\lib\\site-packages (from plotly) (9.0.0)\n",
      "Requirement already satisfied: packaging in c:\\users\\asus\\appdata\\roaming\\python\\python312\\site-packages (from plotly) (24.0)\n",
      "Note: you may need to restart the kernel to use updated packages.\n"
     ]
    },
    {
     "name": "stderr",
     "output_type": "stream",
     "text": [
      "\n",
      "[notice] A new release of pip is available: 24.2 -> 24.3.1\n",
      "[notice] To update, run: python.exe -m pip install --upgrade pip\n"
     ]
    }
   ],
   "source": [
    "pip install plotly"
   ]
  },
  {
   "cell_type": "code",
   "execution_count": 4,
   "metadata": {},
   "outputs": [
    {
     "data": {
      "application/vnd.plotly.v1+json": {
       "config": {
        "plotlyServerURL": "https://plot.ly"
       },
       "data": [
        {
         "branchvalues": "total",
         "customdata": [
          [
           "Action-Oriented Emails",
           8
          ],
          [
           "Approvals & Closings",
           12
          ],
          [
           "Auditor Reports",
           7
          ],
          [
           "Civil Supply Bills",
           16
          ],
          [
           "External Emails",
           3
          ],
          [
           "External Payment Requests",
           11
          ],
          [
           "Finance Emails",
           0
          ],
          [
           "GST",
           19
          ],
          [
           "GST Action Required",
           21
          ],
          [
           "GST Reporting",
           20
          ],
          [
           "IPO Approval",
           13
          ],
          [
           "IPO Reports",
           6
          ],
          [
           "Income Tax",
           22
          ],
          [
           "Income Tax Action Required",
           24
          ],
          [
           "Income Tax Reports",
           23
          ],
          [
           "Internal & External Emails",
           1
          ],
          [
           "Internal Emails",
           2
          ],
          [
           "Internal Payment Requests",
           10
          ],
          [
           "Invoice Approvals",
           17
          ],
          [
           "Invoices & Payments",
           15
          ],
          [
           "MIS Reports",
           5
          ],
          [
           "Payment Requests",
           9
          ],
          [
           "Reporting Emails",
           4
          ],
          [
           "Taxes",
           18
          ],
          [
           "Tender Approval",
           14
          ],
          [
           "",
           0
          ],
          [
           "Action-Oriented Emails",
           13.5
          ],
          [
           "Approvals & Closings",
           13.5
          ],
          [
           "Finance Emails",
           4.333333333333333
          ],
          [
           "GST",
           20.5
          ],
          [
           "Income Tax",
           23
          ],
          [
           "Internal & External Emails",
           2.5
          ],
          [
           "Invoices & Payments",
           16.5
          ],
          [
           "Payment Requests",
           10.5
          ],
          [
           "Reporting Emails",
           6
          ],
          [
           "Taxes",
           19
          ]
         ],
         "domain": {
          "x": [
           0,
           1
          ],
          "y": [
           0,
           1
          ]
         },
         "hovertemplate": "labels=%{customdata[0]}<br>count=%{value}<br>parent=%{parent}<br>id=%{id}<br>index=%{color}<extra></extra>",
         "ids": [
          "Finance Emails/Action-Oriented Emails",
          "Action-Oriented Emails/Approvals & Closings",
          "Reporting Emails/Auditor Reports",
          "Invoices & Payments/Civil Supply Bills",
          "Internal & External Emails/External Emails",
          "Payment Requests/External Payment Requests",
          "/Finance Emails",
          "Taxes/GST",
          "GST/GST Action Required",
          "GST/GST Reporting",
          "Approvals & Closings/IPO Approval",
          "Reporting Emails/IPO Reports",
          "Income Tax/Income Tax",
          "Income Tax/Income Tax Action Required",
          "Income Tax/Income Tax Reports",
          "Finance Emails/Internal & External Emails",
          "Internal & External Emails/Internal Emails",
          "Payment Requests/Internal Payment Requests",
          "Invoices & Payments/Invoice Approvals",
          "Action-Oriented Emails/Invoices & Payments",
          "Reporting Emails/MIS Reports",
          "Action-Oriented Emails/Payment Requests",
          "Finance Emails/Reporting Emails",
          "Action-Oriented Emails/Taxes",
          "Approvals & Closings/Tender Approval",
          "",
          "Action-Oriented Emails",
          "Approvals & Closings",
          "Finance Emails",
          "GST",
          "Income Tax",
          "Internal & External Emails",
          "Invoices & Payments",
          "Payment Requests",
          "Reporting Emails",
          "Taxes"
         ],
         "labels": [
          "Action-Oriented Emails",
          "Approvals & Closings",
          "Auditor Reports",
          "Civil Supply Bills",
          "External Emails",
          "External Payment Requests",
          "Finance Emails",
          "GST",
          "GST Action Required",
          "GST Reporting",
          "IPO Approval",
          "IPO Reports",
          "Income Tax",
          "Income Tax Action Required",
          "Income Tax Reports",
          "Internal & External Emails",
          "Internal Emails",
          "Internal Payment Requests",
          "Invoice Approvals",
          "Invoices & Payments",
          "MIS Reports",
          "Payment Requests",
          "Reporting Emails",
          "Taxes",
          "Tender Approval",
          "",
          "Action-Oriented Emails",
          "Approvals & Closings",
          "Finance Emails",
          "GST",
          "Income Tax",
          "Internal & External Emails",
          "Invoices & Payments",
          "Payment Requests",
          "Reporting Emails",
          "Taxes"
         ],
         "marker": {
          "coloraxis": "coloraxis",
          "colors": [
           8,
           12,
           7,
           16,
           3,
           11,
           0,
           19,
           21,
           20,
           13,
           6,
           22,
           24,
           23,
           1,
           2,
           10,
           17,
           15,
           5,
           9,
           4,
           18,
           14,
           0,
           13.5,
           13.5,
           4.333333333333333,
           20.5,
           23,
           2.5,
           16.5,
           10.5,
           6,
           19
          ]
         },
         "name": "",
         "parents": [
          "Finance Emails",
          "Action-Oriented Emails",
          "Reporting Emails",
          "Invoices & Payments",
          "Internal & External Emails",
          "Payment Requests",
          "",
          "Taxes",
          "GST",
          "GST",
          "Approvals & Closings",
          "Reporting Emails",
          "Income Tax",
          "Income Tax",
          "Income Tax",
          "Finance Emails",
          "Internal & External Emails",
          "Payment Requests",
          "Invoices & Payments",
          "Action-Oriented Emails",
          "Reporting Emails",
          "Action-Oriented Emails",
          "Finance Emails",
          "Action-Oriented Emails",
          "Approvals & Closings",
          "",
          "",
          "",
          "",
          "",
          "",
          "",
          "",
          "",
          "",
          ""
         ],
         "type": "treemap",
         "values": [
          1,
          1,
          1,
          1,
          1,
          1,
          1,
          1,
          1,
          1,
          1,
          1,
          1,
          1,
          1,
          1,
          1,
          1,
          1,
          1,
          1,
          1,
          1,
          1,
          1,
          1,
          4,
          2,
          3,
          2,
          3,
          2,
          2,
          2,
          3,
          1
         ]
        }
       ],
       "layout": {
        "coloraxis": {
         "colorbar": {
          "title": {
           "text": "index"
          }
         },
         "colorscale": [
          [
           0,
           "rgb(103,0,31)"
          ],
          [
           0.1,
           "rgb(178,24,43)"
          ],
          [
           0.2,
           "rgb(214,96,77)"
          ],
          [
           0.3,
           "rgb(244,165,130)"
          ],
          [
           0.4,
           "rgb(253,219,199)"
          ],
          [
           0.5,
           "rgb(247,247,247)"
          ],
          [
           0.6,
           "rgb(209,229,240)"
          ],
          [
           0.7,
           "rgb(146,197,222)"
          ],
          [
           0.8,
           "rgb(67,147,195)"
          ],
          [
           0.9,
           "rgb(33,102,172)"
          ],
          [
           1,
           "rgb(5,48,97)"
          ]
         ]
        },
        "legend": {
         "tracegroupgap": 0
        },
        "template": {
         "data": {
          "bar": [
           {
            "error_x": {
             "color": "#2a3f5f"
            },
            "error_y": {
             "color": "#2a3f5f"
            },
            "marker": {
             "line": {
              "color": "#E5ECF6",
              "width": 0.5
             },
             "pattern": {
              "fillmode": "overlay",
              "size": 10,
              "solidity": 0.2
             }
            },
            "type": "bar"
           }
          ],
          "barpolar": [
           {
            "marker": {
             "line": {
              "color": "#E5ECF6",
              "width": 0.5
             },
             "pattern": {
              "fillmode": "overlay",
              "size": 10,
              "solidity": 0.2
             }
            },
            "type": "barpolar"
           }
          ],
          "carpet": [
           {
            "aaxis": {
             "endlinecolor": "#2a3f5f",
             "gridcolor": "white",
             "linecolor": "white",
             "minorgridcolor": "white",
             "startlinecolor": "#2a3f5f"
            },
            "baxis": {
             "endlinecolor": "#2a3f5f",
             "gridcolor": "white",
             "linecolor": "white",
             "minorgridcolor": "white",
             "startlinecolor": "#2a3f5f"
            },
            "type": "carpet"
           }
          ],
          "choropleth": [
           {
            "colorbar": {
             "outlinewidth": 0,
             "ticks": ""
            },
            "type": "choropleth"
           }
          ],
          "contour": [
           {
            "colorbar": {
             "outlinewidth": 0,
             "ticks": ""
            },
            "colorscale": [
             [
              0,
              "#0d0887"
             ],
             [
              0.1111111111111111,
              "#46039f"
             ],
             [
              0.2222222222222222,
              "#7201a8"
             ],
             [
              0.3333333333333333,
              "#9c179e"
             ],
             [
              0.4444444444444444,
              "#bd3786"
             ],
             [
              0.5555555555555556,
              "#d8576b"
             ],
             [
              0.6666666666666666,
              "#ed7953"
             ],
             [
              0.7777777777777778,
              "#fb9f3a"
             ],
             [
              0.8888888888888888,
              "#fdca26"
             ],
             [
              1,
              "#f0f921"
             ]
            ],
            "type": "contour"
           }
          ],
          "contourcarpet": [
           {
            "colorbar": {
             "outlinewidth": 0,
             "ticks": ""
            },
            "type": "contourcarpet"
           }
          ],
          "heatmap": [
           {
            "colorbar": {
             "outlinewidth": 0,
             "ticks": ""
            },
            "colorscale": [
             [
              0,
              "#0d0887"
             ],
             [
              0.1111111111111111,
              "#46039f"
             ],
             [
              0.2222222222222222,
              "#7201a8"
             ],
             [
              0.3333333333333333,
              "#9c179e"
             ],
             [
              0.4444444444444444,
              "#bd3786"
             ],
             [
              0.5555555555555556,
              "#d8576b"
             ],
             [
              0.6666666666666666,
              "#ed7953"
             ],
             [
              0.7777777777777778,
              "#fb9f3a"
             ],
             [
              0.8888888888888888,
              "#fdca26"
             ],
             [
              1,
              "#f0f921"
             ]
            ],
            "type": "heatmap"
           }
          ],
          "heatmapgl": [
           {
            "colorbar": {
             "outlinewidth": 0,
             "ticks": ""
            },
            "colorscale": [
             [
              0,
              "#0d0887"
             ],
             [
              0.1111111111111111,
              "#46039f"
             ],
             [
              0.2222222222222222,
              "#7201a8"
             ],
             [
              0.3333333333333333,
              "#9c179e"
             ],
             [
              0.4444444444444444,
              "#bd3786"
             ],
             [
              0.5555555555555556,
              "#d8576b"
             ],
             [
              0.6666666666666666,
              "#ed7953"
             ],
             [
              0.7777777777777778,
              "#fb9f3a"
             ],
             [
              0.8888888888888888,
              "#fdca26"
             ],
             [
              1,
              "#f0f921"
             ]
            ],
            "type": "heatmapgl"
           }
          ],
          "histogram": [
           {
            "marker": {
             "pattern": {
              "fillmode": "overlay",
              "size": 10,
              "solidity": 0.2
             }
            },
            "type": "histogram"
           }
          ],
          "histogram2d": [
           {
            "colorbar": {
             "outlinewidth": 0,
             "ticks": ""
            },
            "colorscale": [
             [
              0,
              "#0d0887"
             ],
             [
              0.1111111111111111,
              "#46039f"
             ],
             [
              0.2222222222222222,
              "#7201a8"
             ],
             [
              0.3333333333333333,
              "#9c179e"
             ],
             [
              0.4444444444444444,
              "#bd3786"
             ],
             [
              0.5555555555555556,
              "#d8576b"
             ],
             [
              0.6666666666666666,
              "#ed7953"
             ],
             [
              0.7777777777777778,
              "#fb9f3a"
             ],
             [
              0.8888888888888888,
              "#fdca26"
             ],
             [
              1,
              "#f0f921"
             ]
            ],
            "type": "histogram2d"
           }
          ],
          "histogram2dcontour": [
           {
            "colorbar": {
             "outlinewidth": 0,
             "ticks": ""
            },
            "colorscale": [
             [
              0,
              "#0d0887"
             ],
             [
              0.1111111111111111,
              "#46039f"
             ],
             [
              0.2222222222222222,
              "#7201a8"
             ],
             [
              0.3333333333333333,
              "#9c179e"
             ],
             [
              0.4444444444444444,
              "#bd3786"
             ],
             [
              0.5555555555555556,
              "#d8576b"
             ],
             [
              0.6666666666666666,
              "#ed7953"
             ],
             [
              0.7777777777777778,
              "#fb9f3a"
             ],
             [
              0.8888888888888888,
              "#fdca26"
             ],
             [
              1,
              "#f0f921"
             ]
            ],
            "type": "histogram2dcontour"
           }
          ],
          "mesh3d": [
           {
            "colorbar": {
             "outlinewidth": 0,
             "ticks": ""
            },
            "type": "mesh3d"
           }
          ],
          "parcoords": [
           {
            "line": {
             "colorbar": {
              "outlinewidth": 0,
              "ticks": ""
             }
            },
            "type": "parcoords"
           }
          ],
          "pie": [
           {
            "automargin": true,
            "type": "pie"
           }
          ],
          "scatter": [
           {
            "fillpattern": {
             "fillmode": "overlay",
             "size": 10,
             "solidity": 0.2
            },
            "type": "scatter"
           }
          ],
          "scatter3d": [
           {
            "line": {
             "colorbar": {
              "outlinewidth": 0,
              "ticks": ""
             }
            },
            "marker": {
             "colorbar": {
              "outlinewidth": 0,
              "ticks": ""
             }
            },
            "type": "scatter3d"
           }
          ],
          "scattercarpet": [
           {
            "marker": {
             "colorbar": {
              "outlinewidth": 0,
              "ticks": ""
             }
            },
            "type": "scattercarpet"
           }
          ],
          "scattergeo": [
           {
            "marker": {
             "colorbar": {
              "outlinewidth": 0,
              "ticks": ""
             }
            },
            "type": "scattergeo"
           }
          ],
          "scattergl": [
           {
            "marker": {
             "colorbar": {
              "outlinewidth": 0,
              "ticks": ""
             }
            },
            "type": "scattergl"
           }
          ],
          "scattermapbox": [
           {
            "marker": {
             "colorbar": {
              "outlinewidth": 0,
              "ticks": ""
             }
            },
            "type": "scattermapbox"
           }
          ],
          "scatterpolar": [
           {
            "marker": {
             "colorbar": {
              "outlinewidth": 0,
              "ticks": ""
             }
            },
            "type": "scatterpolar"
           }
          ],
          "scatterpolargl": [
           {
            "marker": {
             "colorbar": {
              "outlinewidth": 0,
              "ticks": ""
             }
            },
            "type": "scatterpolargl"
           }
          ],
          "scatterternary": [
           {
            "marker": {
             "colorbar": {
              "outlinewidth": 0,
              "ticks": ""
             }
            },
            "type": "scatterternary"
           }
          ],
          "surface": [
           {
            "colorbar": {
             "outlinewidth": 0,
             "ticks": ""
            },
            "colorscale": [
             [
              0,
              "#0d0887"
             ],
             [
              0.1111111111111111,
              "#46039f"
             ],
             [
              0.2222222222222222,
              "#7201a8"
             ],
             [
              0.3333333333333333,
              "#9c179e"
             ],
             [
              0.4444444444444444,
              "#bd3786"
             ],
             [
              0.5555555555555556,
              "#d8576b"
             ],
             [
              0.6666666666666666,
              "#ed7953"
             ],
             [
              0.7777777777777778,
              "#fb9f3a"
             ],
             [
              0.8888888888888888,
              "#fdca26"
             ],
             [
              1,
              "#f0f921"
             ]
            ],
            "type": "surface"
           }
          ],
          "table": [
           {
            "cells": {
             "fill": {
              "color": "#EBF0F8"
             },
             "line": {
              "color": "white"
             }
            },
            "header": {
             "fill": {
              "color": "#C8D4E3"
             },
             "line": {
              "color": "white"
             }
            },
            "type": "table"
           }
          ]
         },
         "layout": {
          "annotationdefaults": {
           "arrowcolor": "#2a3f5f",
           "arrowhead": 0,
           "arrowwidth": 1
          },
          "autotypenumbers": "strict",
          "coloraxis": {
           "colorbar": {
            "outlinewidth": 0,
            "ticks": ""
           }
          },
          "colorscale": {
           "diverging": [
            [
             0,
             "#8e0152"
            ],
            [
             0.1,
             "#c51b7d"
            ],
            [
             0.2,
             "#de77ae"
            ],
            [
             0.3,
             "#f1b6da"
            ],
            [
             0.4,
             "#fde0ef"
            ],
            [
             0.5,
             "#f7f7f7"
            ],
            [
             0.6,
             "#e6f5d0"
            ],
            [
             0.7,
             "#b8e186"
            ],
            [
             0.8,
             "#7fbc41"
            ],
            [
             0.9,
             "#4d9221"
            ],
            [
             1,
             "#276419"
            ]
           ],
           "sequential": [
            [
             0,
             "#0d0887"
            ],
            [
             0.1111111111111111,
             "#46039f"
            ],
            [
             0.2222222222222222,
             "#7201a8"
            ],
            [
             0.3333333333333333,
             "#9c179e"
            ],
            [
             0.4444444444444444,
             "#bd3786"
            ],
            [
             0.5555555555555556,
             "#d8576b"
            ],
            [
             0.6666666666666666,
             "#ed7953"
            ],
            [
             0.7777777777777778,
             "#fb9f3a"
            ],
            [
             0.8888888888888888,
             "#fdca26"
            ],
            [
             1,
             "#f0f921"
            ]
           ],
           "sequentialminus": [
            [
             0,
             "#0d0887"
            ],
            [
             0.1111111111111111,
             "#46039f"
            ],
            [
             0.2222222222222222,
             "#7201a8"
            ],
            [
             0.3333333333333333,
             "#9c179e"
            ],
            [
             0.4444444444444444,
             "#bd3786"
            ],
            [
             0.5555555555555556,
             "#d8576b"
            ],
            [
             0.6666666666666666,
             "#ed7953"
            ],
            [
             0.7777777777777778,
             "#fb9f3a"
            ],
            [
             0.8888888888888888,
             "#fdca26"
            ],
            [
             1,
             "#f0f921"
            ]
           ]
          },
          "colorway": [
           "#636efa",
           "#EF553B",
           "#00cc96",
           "#ab63fa",
           "#FFA15A",
           "#19d3f3",
           "#FF6692",
           "#B6E880",
           "#FF97FF",
           "#FECB52"
          ],
          "font": {
           "color": "#2a3f5f"
          },
          "geo": {
           "bgcolor": "white",
           "lakecolor": "white",
           "landcolor": "#E5ECF6",
           "showlakes": true,
           "showland": true,
           "subunitcolor": "white"
          },
          "hoverlabel": {
           "align": "left"
          },
          "hovermode": "closest",
          "mapbox": {
           "style": "light"
          },
          "paper_bgcolor": "white",
          "plot_bgcolor": "#E5ECF6",
          "polar": {
           "angularaxis": {
            "gridcolor": "white",
            "linecolor": "white",
            "ticks": ""
           },
           "bgcolor": "#E5ECF6",
           "radialaxis": {
            "gridcolor": "white",
            "linecolor": "white",
            "ticks": ""
           }
          },
          "scene": {
           "xaxis": {
            "backgroundcolor": "#E5ECF6",
            "gridcolor": "white",
            "gridwidth": 2,
            "linecolor": "white",
            "showbackground": true,
            "ticks": "",
            "zerolinecolor": "white"
           },
           "yaxis": {
            "backgroundcolor": "#E5ECF6",
            "gridcolor": "white",
            "gridwidth": 2,
            "linecolor": "white",
            "showbackground": true,
            "ticks": "",
            "zerolinecolor": "white"
           },
           "zaxis": {
            "backgroundcolor": "#E5ECF6",
            "gridcolor": "white",
            "gridwidth": 2,
            "linecolor": "white",
            "showbackground": true,
            "ticks": "",
            "zerolinecolor": "white"
           }
          },
          "shapedefaults": {
           "line": {
            "color": "#2a3f5f"
           }
          },
          "ternary": {
           "aaxis": {
            "gridcolor": "white",
            "linecolor": "white",
            "ticks": ""
           },
           "baxis": {
            "gridcolor": "white",
            "linecolor": "white",
            "ticks": ""
           },
           "bgcolor": "#E5ECF6",
           "caxis": {
            "gridcolor": "white",
            "linecolor": "white",
            "ticks": ""
           }
          },
          "title": {
           "x": 0.05
          },
          "xaxis": {
           "automargin": true,
           "gridcolor": "white",
           "linecolor": "white",
           "ticks": "",
           "title": {
            "standoff": 15
           },
           "zerolinecolor": "white",
           "zerolinewidth": 2
          },
          "yaxis": {
           "automargin": true,
           "gridcolor": "white",
           "linecolor": "white",
           "ticks": "",
           "title": {
            "standoff": 15
           },
           "zerolinecolor": "white",
           "zerolinewidth": 2
          }
         }
        },
        "title": {
         "text": "Finance Email Hierarchy"
        }
       }
      }
     },
     "metadata": {},
     "output_type": "display_data"
    }
   ],
   "source": [
    "import plotly.express as px\n",
    "\n",
    "# Define the hierarchical structure and labels\n",
    "labels = [\n",
    "    'Finance Emails', \n",
    "    'Internal & External Emails', 'Internal Emails', 'External Emails',\n",
    "    'Reporting Emails', 'MIS Reports', 'IPO Reports', 'Auditor Reports',\n",
    "    'Action-Oriented Emails', 'Payment Requests', 'Internal Payment Requests', 'External Payment Requests',\n",
    "    'Approvals & Closings', 'IPO Approval', 'Tender Approval',\n",
    "    'Invoices & Payments', 'Civil Supply Bills', 'Invoice Approvals',\n",
    "    'Taxes', 'GST', 'GST Reporting', 'GST Action Required', 'Income Tax', 'Income Tax Reports', 'Income Tax Action Required'\n",
    "]\n",
    "\n",
    "# Define the parent-child relationships between labels\n",
    "parents = [\n",
    "    '', 'Finance Emails', 'Internal & External Emails', 'Internal & External Emails',\n",
    "    'Finance Emails', 'Reporting Emails', 'Reporting Emails', 'Reporting Emails',\n",
    "    'Finance Emails', 'Action-Oriented Emails', 'Payment Requests', 'Payment Requests',\n",
    "    'Action-Oriented Emails', 'Approvals & Closings', 'Approvals & Closings',\n",
    "    'Action-Oriented Emails', 'Invoices & Payments', 'Invoices & Payments',\n",
    "    'Action-Oriented Emails', 'Taxes', 'GST', 'GST', 'Income Tax', 'Income Tax', 'Income Tax'\n",
    "]\n",
    "\n",
    "# Create the dataframe for plotting\n",
    "import pandas as pd\n",
    "data = {\n",
    "    \"labels\": labels,\n",
    "    \"parents\": parents\n",
    "}\n",
    "\n",
    "df = pd.DataFrame(data)\n",
    "\n",
    "# Create a tree map using Plotly Express\n",
    "fig = px.treemap(df, \n",
    "                 path=['parents', 'labels'],  # Define hierarchical path\n",
    "                 title=\"Finance Email Hierarchy\",\n",
    "                 color=df.index,  # Color nodes based on index\n",
    "                 color_continuous_scale=\"RdBu\",\n",
    "                 hover_data=[\"labels\"])\n",
    "\n",
    "# Show the tree map\n",
    "fig.show()"
   ]
  },
  {
   "cell_type": "code",
   "execution_count": 5,
   "metadata": {},
   "outputs": [
    {
     "data": {
      "application/vnd.plotly.v1+json": {
       "config": {
        "plotlyServerURL": "https://plot.ly"
       },
       "data": [
        {
         "branchvalues": "total",
         "customdata": [
          [
           "Action-Oriented Emails",
           8
          ],
          [
           "Approvals & Closings",
           12
          ],
          [
           "Auditor Reports",
           7
          ],
          [
           "Civil Supply Bills",
           16
          ],
          [
           "External Emails",
           3
          ],
          [
           "External Payment Requests",
           11
          ],
          [
           "Finance Emails",
           0
          ],
          [
           "GST",
           19
          ],
          [
           "GST Action Required",
           21
          ],
          [
           "GST Reporting",
           20
          ],
          [
           "IPO Approval",
           13
          ],
          [
           "IPO Reports",
           6
          ],
          [
           "Income Tax",
           22
          ],
          [
           "Income Tax Action Required",
           24
          ],
          [
           "Income Tax Reports",
           23
          ],
          [
           "Internal & External Emails",
           1
          ],
          [
           "Internal Emails",
           2
          ],
          [
           "Internal Payment Requests",
           10
          ],
          [
           "Invoice Approvals",
           17
          ],
          [
           "Invoices & Payments",
           15
          ],
          [
           "MIS Reports",
           5
          ],
          [
           "Payment Requests",
           9
          ],
          [
           "Reporting Emails",
           4
          ],
          [
           "Taxes",
           18
          ],
          [
           "Tender Approval",
           14
          ],
          [
           "",
           0
          ],
          [
           "Action-Oriented Emails",
           13.5
          ],
          [
           "Approvals & Closings",
           13.5
          ],
          [
           "Finance Emails",
           4.333333333333333
          ],
          [
           "GST",
           20.5
          ],
          [
           "Income Tax",
           23
          ],
          [
           "Internal & External Emails",
           2.5
          ],
          [
           "Invoices & Payments",
           16.5
          ],
          [
           "Payment Requests",
           10.5
          ],
          [
           "Reporting Emails",
           6
          ],
          [
           "Taxes",
           19
          ]
         ],
         "domain": {
          "x": [
           0,
           1
          ],
          "y": [
           0,
           1
          ]
         },
         "hovertemplate": "labels=%{customdata[0]}<br>count=%{value}<br>parent=%{parent}<br>id=%{id}<br>index=%{color}<extra></extra>",
         "ids": [
          "Finance Emails/Action-Oriented Emails",
          "Action-Oriented Emails/Approvals & Closings",
          "Reporting Emails/Auditor Reports",
          "Invoices & Payments/Civil Supply Bills",
          "Internal & External Emails/External Emails",
          "Payment Requests/External Payment Requests",
          "/Finance Emails",
          "Taxes/GST",
          "GST/GST Action Required",
          "GST/GST Reporting",
          "Approvals & Closings/IPO Approval",
          "Reporting Emails/IPO Reports",
          "Income Tax/Income Tax",
          "Income Tax/Income Tax Action Required",
          "Income Tax/Income Tax Reports",
          "Finance Emails/Internal & External Emails",
          "Internal & External Emails/Internal Emails",
          "Payment Requests/Internal Payment Requests",
          "Invoices & Payments/Invoice Approvals",
          "Action-Oriented Emails/Invoices & Payments",
          "Reporting Emails/MIS Reports",
          "Action-Oriented Emails/Payment Requests",
          "Finance Emails/Reporting Emails",
          "Action-Oriented Emails/Taxes",
          "Approvals & Closings/Tender Approval",
          "",
          "Action-Oriented Emails",
          "Approvals & Closings",
          "Finance Emails",
          "GST",
          "Income Tax",
          "Internal & External Emails",
          "Invoices & Payments",
          "Payment Requests",
          "Reporting Emails",
          "Taxes"
         ],
         "labels": [
          "Action-Oriented Emails",
          "Approvals & Closings",
          "Auditor Reports",
          "Civil Supply Bills",
          "External Emails",
          "External Payment Requests",
          "Finance Emails",
          "GST",
          "GST Action Required",
          "GST Reporting",
          "IPO Approval",
          "IPO Reports",
          "Income Tax",
          "Income Tax Action Required",
          "Income Tax Reports",
          "Internal & External Emails",
          "Internal Emails",
          "Internal Payment Requests",
          "Invoice Approvals",
          "Invoices & Payments",
          "MIS Reports",
          "Payment Requests",
          "Reporting Emails",
          "Taxes",
          "Tender Approval",
          "",
          "Action-Oriented Emails",
          "Approvals & Closings",
          "Finance Emails",
          "GST",
          "Income Tax",
          "Internal & External Emails",
          "Invoices & Payments",
          "Payment Requests",
          "Reporting Emails",
          "Taxes"
         ],
         "marker": {
          "coloraxis": "coloraxis",
          "colors": [
           8,
           12,
           7,
           16,
           3,
           11,
           0,
           19,
           21,
           20,
           13,
           6,
           22,
           24,
           23,
           1,
           2,
           10,
           17,
           15,
           5,
           9,
           4,
           18,
           14,
           0,
           13.5,
           13.5,
           4.333333333333333,
           20.5,
           23,
           2.5,
           16.5,
           10.5,
           6,
           19
          ]
         },
         "name": "",
         "parents": [
          "Finance Emails",
          "Action-Oriented Emails",
          "Reporting Emails",
          "Invoices & Payments",
          "Internal & External Emails",
          "Payment Requests",
          "",
          "Taxes",
          "GST",
          "GST",
          "Approvals & Closings",
          "Reporting Emails",
          "Income Tax",
          "Income Tax",
          "Income Tax",
          "Finance Emails",
          "Internal & External Emails",
          "Payment Requests",
          "Invoices & Payments",
          "Action-Oriented Emails",
          "Reporting Emails",
          "Action-Oriented Emails",
          "Finance Emails",
          "Action-Oriented Emails",
          "Approvals & Closings",
          "",
          "",
          "",
          "",
          "",
          "",
          "",
          "",
          "",
          "",
          ""
         ],
         "type": "treemap",
         "values": [
          1,
          1,
          1,
          1,
          1,
          1,
          1,
          1,
          1,
          1,
          1,
          1,
          1,
          1,
          1,
          1,
          1,
          1,
          1,
          1,
          1,
          1,
          1,
          1,
          1,
          1,
          4,
          2,
          3,
          2,
          3,
          2,
          2,
          2,
          3,
          1
         ]
        }
       ],
       "layout": {
        "coloraxis": {
         "colorbar": {
          "title": {
           "text": "index"
          }
         },
         "colorscale": [
          [
           0,
           "#440154"
          ],
          [
           0.1111111111111111,
           "#482878"
          ],
          [
           0.2222222222222222,
           "#3e4989"
          ],
          [
           0.3333333333333333,
           "#31688e"
          ],
          [
           0.4444444444444444,
           "#26828e"
          ],
          [
           0.5555555555555556,
           "#1f9e89"
          ],
          [
           0.6666666666666666,
           "#35b779"
          ],
          [
           0.7777777777777778,
           "#6ece58"
          ],
          [
           0.8888888888888888,
           "#b5de2b"
          ],
          [
           1,
           "#fde725"
          ]
         ]
        },
        "legend": {
         "tracegroupgap": 0
        },
        "template": {
         "data": {
          "bar": [
           {
            "error_x": {
             "color": "#2a3f5f"
            },
            "error_y": {
             "color": "#2a3f5f"
            },
            "marker": {
             "line": {
              "color": "#E5ECF6",
              "width": 0.5
             },
             "pattern": {
              "fillmode": "overlay",
              "size": 10,
              "solidity": 0.2
             }
            },
            "type": "bar"
           }
          ],
          "barpolar": [
           {
            "marker": {
             "line": {
              "color": "#E5ECF6",
              "width": 0.5
             },
             "pattern": {
              "fillmode": "overlay",
              "size": 10,
              "solidity": 0.2
             }
            },
            "type": "barpolar"
           }
          ],
          "carpet": [
           {
            "aaxis": {
             "endlinecolor": "#2a3f5f",
             "gridcolor": "white",
             "linecolor": "white",
             "minorgridcolor": "white",
             "startlinecolor": "#2a3f5f"
            },
            "baxis": {
             "endlinecolor": "#2a3f5f",
             "gridcolor": "white",
             "linecolor": "white",
             "minorgridcolor": "white",
             "startlinecolor": "#2a3f5f"
            },
            "type": "carpet"
           }
          ],
          "choropleth": [
           {
            "colorbar": {
             "outlinewidth": 0,
             "ticks": ""
            },
            "type": "choropleth"
           }
          ],
          "contour": [
           {
            "colorbar": {
             "outlinewidth": 0,
             "ticks": ""
            },
            "colorscale": [
             [
              0,
              "#0d0887"
             ],
             [
              0.1111111111111111,
              "#46039f"
             ],
             [
              0.2222222222222222,
              "#7201a8"
             ],
             [
              0.3333333333333333,
              "#9c179e"
             ],
             [
              0.4444444444444444,
              "#bd3786"
             ],
             [
              0.5555555555555556,
              "#d8576b"
             ],
             [
              0.6666666666666666,
              "#ed7953"
             ],
             [
              0.7777777777777778,
              "#fb9f3a"
             ],
             [
              0.8888888888888888,
              "#fdca26"
             ],
             [
              1,
              "#f0f921"
             ]
            ],
            "type": "contour"
           }
          ],
          "contourcarpet": [
           {
            "colorbar": {
             "outlinewidth": 0,
             "ticks": ""
            },
            "type": "contourcarpet"
           }
          ],
          "heatmap": [
           {
            "colorbar": {
             "outlinewidth": 0,
             "ticks": ""
            },
            "colorscale": [
             [
              0,
              "#0d0887"
             ],
             [
              0.1111111111111111,
              "#46039f"
             ],
             [
              0.2222222222222222,
              "#7201a8"
             ],
             [
              0.3333333333333333,
              "#9c179e"
             ],
             [
              0.4444444444444444,
              "#bd3786"
             ],
             [
              0.5555555555555556,
              "#d8576b"
             ],
             [
              0.6666666666666666,
              "#ed7953"
             ],
             [
              0.7777777777777778,
              "#fb9f3a"
             ],
             [
              0.8888888888888888,
              "#fdca26"
             ],
             [
              1,
              "#f0f921"
             ]
            ],
            "type": "heatmap"
           }
          ],
          "heatmapgl": [
           {
            "colorbar": {
             "outlinewidth": 0,
             "ticks": ""
            },
            "colorscale": [
             [
              0,
              "#0d0887"
             ],
             [
              0.1111111111111111,
              "#46039f"
             ],
             [
              0.2222222222222222,
              "#7201a8"
             ],
             [
              0.3333333333333333,
              "#9c179e"
             ],
             [
              0.4444444444444444,
              "#bd3786"
             ],
             [
              0.5555555555555556,
              "#d8576b"
             ],
             [
              0.6666666666666666,
              "#ed7953"
             ],
             [
              0.7777777777777778,
              "#fb9f3a"
             ],
             [
              0.8888888888888888,
              "#fdca26"
             ],
             [
              1,
              "#f0f921"
             ]
            ],
            "type": "heatmapgl"
           }
          ],
          "histogram": [
           {
            "marker": {
             "pattern": {
              "fillmode": "overlay",
              "size": 10,
              "solidity": 0.2
             }
            },
            "type": "histogram"
           }
          ],
          "histogram2d": [
           {
            "colorbar": {
             "outlinewidth": 0,
             "ticks": ""
            },
            "colorscale": [
             [
              0,
              "#0d0887"
             ],
             [
              0.1111111111111111,
              "#46039f"
             ],
             [
              0.2222222222222222,
              "#7201a8"
             ],
             [
              0.3333333333333333,
              "#9c179e"
             ],
             [
              0.4444444444444444,
              "#bd3786"
             ],
             [
              0.5555555555555556,
              "#d8576b"
             ],
             [
              0.6666666666666666,
              "#ed7953"
             ],
             [
              0.7777777777777778,
              "#fb9f3a"
             ],
             [
              0.8888888888888888,
              "#fdca26"
             ],
             [
              1,
              "#f0f921"
             ]
            ],
            "type": "histogram2d"
           }
          ],
          "histogram2dcontour": [
           {
            "colorbar": {
             "outlinewidth": 0,
             "ticks": ""
            },
            "colorscale": [
             [
              0,
              "#0d0887"
             ],
             [
              0.1111111111111111,
              "#46039f"
             ],
             [
              0.2222222222222222,
              "#7201a8"
             ],
             [
              0.3333333333333333,
              "#9c179e"
             ],
             [
              0.4444444444444444,
              "#bd3786"
             ],
             [
              0.5555555555555556,
              "#d8576b"
             ],
             [
              0.6666666666666666,
              "#ed7953"
             ],
             [
              0.7777777777777778,
              "#fb9f3a"
             ],
             [
              0.8888888888888888,
              "#fdca26"
             ],
             [
              1,
              "#f0f921"
             ]
            ],
            "type": "histogram2dcontour"
           }
          ],
          "mesh3d": [
           {
            "colorbar": {
             "outlinewidth": 0,
             "ticks": ""
            },
            "type": "mesh3d"
           }
          ],
          "parcoords": [
           {
            "line": {
             "colorbar": {
              "outlinewidth": 0,
              "ticks": ""
             }
            },
            "type": "parcoords"
           }
          ],
          "pie": [
           {
            "automargin": true,
            "type": "pie"
           }
          ],
          "scatter": [
           {
            "fillpattern": {
             "fillmode": "overlay",
             "size": 10,
             "solidity": 0.2
            },
            "type": "scatter"
           }
          ],
          "scatter3d": [
           {
            "line": {
             "colorbar": {
              "outlinewidth": 0,
              "ticks": ""
             }
            },
            "marker": {
             "colorbar": {
              "outlinewidth": 0,
              "ticks": ""
             }
            },
            "type": "scatter3d"
           }
          ],
          "scattercarpet": [
           {
            "marker": {
             "colorbar": {
              "outlinewidth": 0,
              "ticks": ""
             }
            },
            "type": "scattercarpet"
           }
          ],
          "scattergeo": [
           {
            "marker": {
             "colorbar": {
              "outlinewidth": 0,
              "ticks": ""
             }
            },
            "type": "scattergeo"
           }
          ],
          "scattergl": [
           {
            "marker": {
             "colorbar": {
              "outlinewidth": 0,
              "ticks": ""
             }
            },
            "type": "scattergl"
           }
          ],
          "scattermapbox": [
           {
            "marker": {
             "colorbar": {
              "outlinewidth": 0,
              "ticks": ""
             }
            },
            "type": "scattermapbox"
           }
          ],
          "scatterpolar": [
           {
            "marker": {
             "colorbar": {
              "outlinewidth": 0,
              "ticks": ""
             }
            },
            "type": "scatterpolar"
           }
          ],
          "scatterpolargl": [
           {
            "marker": {
             "colorbar": {
              "outlinewidth": 0,
              "ticks": ""
             }
            },
            "type": "scatterpolargl"
           }
          ],
          "scatterternary": [
           {
            "marker": {
             "colorbar": {
              "outlinewidth": 0,
              "ticks": ""
             }
            },
            "type": "scatterternary"
           }
          ],
          "surface": [
           {
            "colorbar": {
             "outlinewidth": 0,
             "ticks": ""
            },
            "colorscale": [
             [
              0,
              "#0d0887"
             ],
             [
              0.1111111111111111,
              "#46039f"
             ],
             [
              0.2222222222222222,
              "#7201a8"
             ],
             [
              0.3333333333333333,
              "#9c179e"
             ],
             [
              0.4444444444444444,
              "#bd3786"
             ],
             [
              0.5555555555555556,
              "#d8576b"
             ],
             [
              0.6666666666666666,
              "#ed7953"
             ],
             [
              0.7777777777777778,
              "#fb9f3a"
             ],
             [
              0.8888888888888888,
              "#fdca26"
             ],
             [
              1,
              "#f0f921"
             ]
            ],
            "type": "surface"
           }
          ],
          "table": [
           {
            "cells": {
             "fill": {
              "color": "#EBF0F8"
             },
             "line": {
              "color": "white"
             }
            },
            "header": {
             "fill": {
              "color": "#C8D4E3"
             },
             "line": {
              "color": "white"
             }
            },
            "type": "table"
           }
          ]
         },
         "layout": {
          "annotationdefaults": {
           "arrowcolor": "#2a3f5f",
           "arrowhead": 0,
           "arrowwidth": 1
          },
          "autotypenumbers": "strict",
          "coloraxis": {
           "colorbar": {
            "outlinewidth": 0,
            "ticks": ""
           }
          },
          "colorscale": {
           "diverging": [
            [
             0,
             "#8e0152"
            ],
            [
             0.1,
             "#c51b7d"
            ],
            [
             0.2,
             "#de77ae"
            ],
            [
             0.3,
             "#f1b6da"
            ],
            [
             0.4,
             "#fde0ef"
            ],
            [
             0.5,
             "#f7f7f7"
            ],
            [
             0.6,
             "#e6f5d0"
            ],
            [
             0.7,
             "#b8e186"
            ],
            [
             0.8,
             "#7fbc41"
            ],
            [
             0.9,
             "#4d9221"
            ],
            [
             1,
             "#276419"
            ]
           ],
           "sequential": [
            [
             0,
             "#0d0887"
            ],
            [
             0.1111111111111111,
             "#46039f"
            ],
            [
             0.2222222222222222,
             "#7201a8"
            ],
            [
             0.3333333333333333,
             "#9c179e"
            ],
            [
             0.4444444444444444,
             "#bd3786"
            ],
            [
             0.5555555555555556,
             "#d8576b"
            ],
            [
             0.6666666666666666,
             "#ed7953"
            ],
            [
             0.7777777777777778,
             "#fb9f3a"
            ],
            [
             0.8888888888888888,
             "#fdca26"
            ],
            [
             1,
             "#f0f921"
            ]
           ],
           "sequentialminus": [
            [
             0,
             "#0d0887"
            ],
            [
             0.1111111111111111,
             "#46039f"
            ],
            [
             0.2222222222222222,
             "#7201a8"
            ],
            [
             0.3333333333333333,
             "#9c179e"
            ],
            [
             0.4444444444444444,
             "#bd3786"
            ],
            [
             0.5555555555555556,
             "#d8576b"
            ],
            [
             0.6666666666666666,
             "#ed7953"
            ],
            [
             0.7777777777777778,
             "#fb9f3a"
            ],
            [
             0.8888888888888888,
             "#fdca26"
            ],
            [
             1,
             "#f0f921"
            ]
           ]
          },
          "colorway": [
           "#636efa",
           "#EF553B",
           "#00cc96",
           "#ab63fa",
           "#FFA15A",
           "#19d3f3",
           "#FF6692",
           "#B6E880",
           "#FF97FF",
           "#FECB52"
          ],
          "font": {
           "color": "#2a3f5f"
          },
          "geo": {
           "bgcolor": "white",
           "lakecolor": "white",
           "landcolor": "#E5ECF6",
           "showlakes": true,
           "showland": true,
           "subunitcolor": "white"
          },
          "hoverlabel": {
           "align": "left"
          },
          "hovermode": "closest",
          "mapbox": {
           "style": "light"
          },
          "paper_bgcolor": "white",
          "plot_bgcolor": "#E5ECF6",
          "polar": {
           "angularaxis": {
            "gridcolor": "white",
            "linecolor": "white",
            "ticks": ""
           },
           "bgcolor": "#E5ECF6",
           "radialaxis": {
            "gridcolor": "white",
            "linecolor": "white",
            "ticks": ""
           }
          },
          "scene": {
           "xaxis": {
            "backgroundcolor": "#E5ECF6",
            "gridcolor": "white",
            "gridwidth": 2,
            "linecolor": "white",
            "showbackground": true,
            "ticks": "",
            "zerolinecolor": "white"
           },
           "yaxis": {
            "backgroundcolor": "#E5ECF6",
            "gridcolor": "white",
            "gridwidth": 2,
            "linecolor": "white",
            "showbackground": true,
            "ticks": "",
            "zerolinecolor": "white"
           },
           "zaxis": {
            "backgroundcolor": "#E5ECF6",
            "gridcolor": "white",
            "gridwidth": 2,
            "linecolor": "white",
            "showbackground": true,
            "ticks": "",
            "zerolinecolor": "white"
           }
          },
          "shapedefaults": {
           "line": {
            "color": "#2a3f5f"
           }
          },
          "ternary": {
           "aaxis": {
            "gridcolor": "white",
            "linecolor": "white",
            "ticks": ""
           },
           "baxis": {
            "gridcolor": "white",
            "linecolor": "white",
            "ticks": ""
           },
           "bgcolor": "#E5ECF6",
           "caxis": {
            "gridcolor": "white",
            "linecolor": "white",
            "ticks": ""
           }
          },
          "title": {
           "x": 0.05
          },
          "xaxis": {
           "automargin": true,
           "gridcolor": "white",
           "linecolor": "white",
           "ticks": "",
           "title": {
            "standoff": 15
           },
           "zerolinecolor": "white",
           "zerolinewidth": 2
          },
          "yaxis": {
           "automargin": true,
           "gridcolor": "white",
           "linecolor": "white",
           "ticks": "",
           "title": {
            "standoff": 15
           },
           "zerolinecolor": "white",
           "zerolinewidth": 2
          }
         }
        },
        "title": {
         "text": "Finance Email Hierarchy"
        }
       }
      }
     },
     "metadata": {},
     "output_type": "display_data"
    }
   ],
   "source": [
    "import plotly.express as px\n",
    "import pandas as pd\n",
    "\n",
    "# Define the hierarchical structure and labels\n",
    "labels = [\n",
    "    'Finance Emails', \n",
    "    'Internal & External Emails', 'Internal Emails', 'External Emails',\n",
    "    'Reporting Emails', 'MIS Reports', 'IPO Reports', 'Auditor Reports',\n",
    "    'Action-Oriented Emails', 'Payment Requests', 'Internal Payment Requests', 'External Payment Requests',\n",
    "    'Approvals & Closings', 'IPO Approval', 'Tender Approval',\n",
    "    'Invoices & Payments', 'Civil Supply Bills', 'Invoice Approvals',\n",
    "    'Taxes', 'GST', 'GST Reporting', 'GST Action Required', 'Income Tax', 'Income Tax Reports', 'Income Tax Action Required'\n",
    "]\n",
    "\n",
    "# Define the parent-child relationships between labels\n",
    "parents = [\n",
    "    '', 'Finance Emails', 'Internal & External Emails', 'Internal & External Emails',\n",
    "    'Finance Emails', 'Reporting Emails', 'Reporting Emails', 'Reporting Emails',\n",
    "    'Finance Emails', 'Action-Oriented Emails', 'Payment Requests', 'Payment Requests',\n",
    "    'Action-Oriented Emails', 'Approvals & Closings', 'Approvals & Closings',\n",
    "    'Action-Oriented Emails', 'Invoices & Payments', 'Invoices & Payments',\n",
    "    'Action-Oriented Emails', 'Taxes', 'GST', 'GST', 'Income Tax', 'Income Tax', 'Income Tax'\n",
    "]\n",
    "\n",
    "# Create the dataframe for plotting\n",
    "data = {\n",
    "    \"labels\": labels,\n",
    "    \"parents\": parents\n",
    "}\n",
    "\n",
    "df = pd.DataFrame(data)\n",
    "\n",
    "# Create a tree map using Plotly Express\n",
    "fig = px.treemap(df, \n",
    "                 path=['parents', 'labels'],  # Define hierarchical path\n",
    "                 title=\"Finance Email Hierarchy\",\n",
    "                 color=df.index,  # Color nodes based on index\n",
    "                 color_continuous_scale=\"Viridis\",  # Changed color palette\n",
    "                 hover_data=[\"labels\"])\n",
    "\n",
    "# Show the tree map\n",
    "fig.show()\n"
   ]
  },
  {
   "cell_type": "code",
   "execution_count": 6,
   "metadata": {},
   "outputs": [
    {
     "data": {
      "application/vnd.plotly.v1+json": {
       "config": {
        "plotlyServerURL": "https://plot.ly"
       },
       "data": [
        {
         "hoverinfo": "none",
         "line": {
          "color": "gray",
          "width": 2
         },
         "mode": "lines",
         "type": "scatter",
         "x": [
          0.013855350043427991,
          -0.01005030692754467,
          0.013855350043427991,
          -0.07884481780709951,
          0.013855350043427991,
          0.22594296739209485,
          -0.01005030692754467,
          0.6928598017497275,
          -0.01005030692754467,
          -0.7135686150976542,
          -0.07884481780709951,
          0.904634425763077,
          -0.07884481780709951,
          -0.6247730219946216,
          -0.07884481780709951,
          -0.8276017823919695,
          0.22594296739209485,
          -0.24470980182555413,
          0.22594296739209485,
          0.44862007081530075,
          0.22594296739209485,
          0.3441201990338895,
          -0.24470980182555413,
          0.30928071355325504,
          -0.24470980182555413,
          -0.7977331850559297,
          0.44862007081530075,
          0.17757630320539228,
          0.44862007081530075,
          0.7160594386085111,
          0.3441201990338895,
          -0.23470922069731984,
          0.3441201990338895,
          0.9249654066899808,
          -0.1450024068071327,
          -0.5743063834834546,
          -0.1450024068071327,
          0.28727182760857056,
          -0.5743063834834546,
          -0.9076204878695368,
          -0.5743063834834546,
          -0.45989855415767794,
          0.28727182760857056,
          0.7487819050920379,
          0.28727182760857056,
          -0.17514982543976995
         ],
         "y": [
          0.07960199182374757,
          0.5726062075585778,
          0.07960199182374757,
          -0.37478519428094204,
          0.07960199182374757,
          -0.058996334142972014,
          0.5726062075585778,
          0.49279703570499434,
          0.5726062075585778,
          0.6502229537557355,
          -0.37478519428094204,
          -0.3592643352332209,
          -0.37478519428094204,
          -0.7533990766077646,
          -0.37478519428094204,
          -0.07913200533423666,
          -0.058996334142972014,
          0.19959856727073444,
          -0.058996334142972014,
          -0.7986577656253301,
          -0.058996334142972014,
          0.5955208609701828,
          0.19959856727073444,
          0.7767489514325656,
          0.19959856727073444,
          -0.3794127568908346,
          -0.7986577656253301,
          -0.9999999999999999,
          -0.7986577656253301,
          -0.5916096336019,
          0.5955208609701828,
          0.8794284311720514,
          0.5955208609701828,
          0.31656791292254505,
          -0.054702508812327674,
          0.38115125108790165,
          -0.054702508812327674,
          -0.4872949481904648,
          0.38115125108790165,
          0.27904007668565717,
          0.38115125108790165,
          0.6862932009648711,
          -0.4872949481904648,
          -0.04678489082163818,
          -0.4872949481904648,
          -0.9255379918079336
         ]
        },
        {
         "hoverinfo": "text",
         "marker": {
          "color": "skyblue",
          "size": 15
         },
         "mode": "markers+text",
         "text": [
          "Finance Emails",
          "Internal & External Emails",
          "Reporting Emails",
          "Action-Oriented Emails",
          "Internal Emails",
          "External Emails",
          "MIS Reports",
          "IPO Reports",
          "Auditor Reports",
          "Payment Requests",
          "Approvals & Closings",
          "Invoices & Payments",
          "Internal Payment Requests",
          "External Payment Requests",
          "IPO Approval",
          "Tender Approval",
          "Civil Supply Bills",
          "Invoice Approvals",
          "Taxes",
          "GST",
          "Income Tax",
          "GST Reporting",
          "GST Action Required",
          "Income Tax Reports",
          "Income Tax Action Required"
         ],
         "textposition": "bottom center",
         "type": "scatter",
         "x": [
          0.013855350043427991,
          -0.01005030692754467,
          -0.07884481780709951,
          0.22594296739209485,
          0.6928598017497275,
          -0.7135686150976542,
          0.904634425763077,
          -0.6247730219946216,
          -0.8276017823919695,
          -0.24470980182555413,
          0.44862007081530075,
          0.3441201990338895,
          0.30928071355325504,
          -0.7977331850559297,
          0.17757630320539228,
          0.7160594386085111,
          -0.23470922069731984,
          0.9249654066899808,
          -0.1450024068071327,
          -0.5743063834834546,
          0.28727182760857056,
          -0.9076204878695368,
          -0.45989855415767794,
          0.7487819050920379,
          -0.17514982543976995
         ],
         "y": [
          0.07960199182374757,
          0.5726062075585778,
          -0.37478519428094204,
          -0.058996334142972014,
          0.49279703570499434,
          0.6502229537557355,
          -0.3592643352332209,
          -0.7533990766077646,
          -0.07913200533423666,
          0.19959856727073444,
          -0.7986577656253301,
          0.5955208609701828,
          0.7767489514325656,
          -0.3794127568908346,
          -0.9999999999999999,
          -0.5916096336019,
          0.8794284311720514,
          0.31656791292254505,
          -0.054702508812327674,
          0.38115125108790165,
          -0.4872949481904648,
          0.27904007668565717,
          0.6862932009648711,
          -0.04678489082163818,
          -0.9255379918079336
         ]
        }
       ],
       "layout": {
        "hovermode": "closest",
        "showlegend": false,
        "template": {
         "data": {
          "bar": [
           {
            "error_x": {
             "color": "#2a3f5f"
            },
            "error_y": {
             "color": "#2a3f5f"
            },
            "marker": {
             "line": {
              "color": "#E5ECF6",
              "width": 0.5
             },
             "pattern": {
              "fillmode": "overlay",
              "size": 10,
              "solidity": 0.2
             }
            },
            "type": "bar"
           }
          ],
          "barpolar": [
           {
            "marker": {
             "line": {
              "color": "#E5ECF6",
              "width": 0.5
             },
             "pattern": {
              "fillmode": "overlay",
              "size": 10,
              "solidity": 0.2
             }
            },
            "type": "barpolar"
           }
          ],
          "carpet": [
           {
            "aaxis": {
             "endlinecolor": "#2a3f5f",
             "gridcolor": "white",
             "linecolor": "white",
             "minorgridcolor": "white",
             "startlinecolor": "#2a3f5f"
            },
            "baxis": {
             "endlinecolor": "#2a3f5f",
             "gridcolor": "white",
             "linecolor": "white",
             "minorgridcolor": "white",
             "startlinecolor": "#2a3f5f"
            },
            "type": "carpet"
           }
          ],
          "choropleth": [
           {
            "colorbar": {
             "outlinewidth": 0,
             "ticks": ""
            },
            "type": "choropleth"
           }
          ],
          "contour": [
           {
            "colorbar": {
             "outlinewidth": 0,
             "ticks": ""
            },
            "colorscale": [
             [
              0,
              "#0d0887"
             ],
             [
              0.1111111111111111,
              "#46039f"
             ],
             [
              0.2222222222222222,
              "#7201a8"
             ],
             [
              0.3333333333333333,
              "#9c179e"
             ],
             [
              0.4444444444444444,
              "#bd3786"
             ],
             [
              0.5555555555555556,
              "#d8576b"
             ],
             [
              0.6666666666666666,
              "#ed7953"
             ],
             [
              0.7777777777777778,
              "#fb9f3a"
             ],
             [
              0.8888888888888888,
              "#fdca26"
             ],
             [
              1,
              "#f0f921"
             ]
            ],
            "type": "contour"
           }
          ],
          "contourcarpet": [
           {
            "colorbar": {
             "outlinewidth": 0,
             "ticks": ""
            },
            "type": "contourcarpet"
           }
          ],
          "heatmap": [
           {
            "colorbar": {
             "outlinewidth": 0,
             "ticks": ""
            },
            "colorscale": [
             [
              0,
              "#0d0887"
             ],
             [
              0.1111111111111111,
              "#46039f"
             ],
             [
              0.2222222222222222,
              "#7201a8"
             ],
             [
              0.3333333333333333,
              "#9c179e"
             ],
             [
              0.4444444444444444,
              "#bd3786"
             ],
             [
              0.5555555555555556,
              "#d8576b"
             ],
             [
              0.6666666666666666,
              "#ed7953"
             ],
             [
              0.7777777777777778,
              "#fb9f3a"
             ],
             [
              0.8888888888888888,
              "#fdca26"
             ],
             [
              1,
              "#f0f921"
             ]
            ],
            "type": "heatmap"
           }
          ],
          "heatmapgl": [
           {
            "colorbar": {
             "outlinewidth": 0,
             "ticks": ""
            },
            "colorscale": [
             [
              0,
              "#0d0887"
             ],
             [
              0.1111111111111111,
              "#46039f"
             ],
             [
              0.2222222222222222,
              "#7201a8"
             ],
             [
              0.3333333333333333,
              "#9c179e"
             ],
             [
              0.4444444444444444,
              "#bd3786"
             ],
             [
              0.5555555555555556,
              "#d8576b"
             ],
             [
              0.6666666666666666,
              "#ed7953"
             ],
             [
              0.7777777777777778,
              "#fb9f3a"
             ],
             [
              0.8888888888888888,
              "#fdca26"
             ],
             [
              1,
              "#f0f921"
             ]
            ],
            "type": "heatmapgl"
           }
          ],
          "histogram": [
           {
            "marker": {
             "pattern": {
              "fillmode": "overlay",
              "size": 10,
              "solidity": 0.2
             }
            },
            "type": "histogram"
           }
          ],
          "histogram2d": [
           {
            "colorbar": {
             "outlinewidth": 0,
             "ticks": ""
            },
            "colorscale": [
             [
              0,
              "#0d0887"
             ],
             [
              0.1111111111111111,
              "#46039f"
             ],
             [
              0.2222222222222222,
              "#7201a8"
             ],
             [
              0.3333333333333333,
              "#9c179e"
             ],
             [
              0.4444444444444444,
              "#bd3786"
             ],
             [
              0.5555555555555556,
              "#d8576b"
             ],
             [
              0.6666666666666666,
              "#ed7953"
             ],
             [
              0.7777777777777778,
              "#fb9f3a"
             ],
             [
              0.8888888888888888,
              "#fdca26"
             ],
             [
              1,
              "#f0f921"
             ]
            ],
            "type": "histogram2d"
           }
          ],
          "histogram2dcontour": [
           {
            "colorbar": {
             "outlinewidth": 0,
             "ticks": ""
            },
            "colorscale": [
             [
              0,
              "#0d0887"
             ],
             [
              0.1111111111111111,
              "#46039f"
             ],
             [
              0.2222222222222222,
              "#7201a8"
             ],
             [
              0.3333333333333333,
              "#9c179e"
             ],
             [
              0.4444444444444444,
              "#bd3786"
             ],
             [
              0.5555555555555556,
              "#d8576b"
             ],
             [
              0.6666666666666666,
              "#ed7953"
             ],
             [
              0.7777777777777778,
              "#fb9f3a"
             ],
             [
              0.8888888888888888,
              "#fdca26"
             ],
             [
              1,
              "#f0f921"
             ]
            ],
            "type": "histogram2dcontour"
           }
          ],
          "mesh3d": [
           {
            "colorbar": {
             "outlinewidth": 0,
             "ticks": ""
            },
            "type": "mesh3d"
           }
          ],
          "parcoords": [
           {
            "line": {
             "colorbar": {
              "outlinewidth": 0,
              "ticks": ""
             }
            },
            "type": "parcoords"
           }
          ],
          "pie": [
           {
            "automargin": true,
            "type": "pie"
           }
          ],
          "scatter": [
           {
            "fillpattern": {
             "fillmode": "overlay",
             "size": 10,
             "solidity": 0.2
            },
            "type": "scatter"
           }
          ],
          "scatter3d": [
           {
            "line": {
             "colorbar": {
              "outlinewidth": 0,
              "ticks": ""
             }
            },
            "marker": {
             "colorbar": {
              "outlinewidth": 0,
              "ticks": ""
             }
            },
            "type": "scatter3d"
           }
          ],
          "scattercarpet": [
           {
            "marker": {
             "colorbar": {
              "outlinewidth": 0,
              "ticks": ""
             }
            },
            "type": "scattercarpet"
           }
          ],
          "scattergeo": [
           {
            "marker": {
             "colorbar": {
              "outlinewidth": 0,
              "ticks": ""
             }
            },
            "type": "scattergeo"
           }
          ],
          "scattergl": [
           {
            "marker": {
             "colorbar": {
              "outlinewidth": 0,
              "ticks": ""
             }
            },
            "type": "scattergl"
           }
          ],
          "scattermapbox": [
           {
            "marker": {
             "colorbar": {
              "outlinewidth": 0,
              "ticks": ""
             }
            },
            "type": "scattermapbox"
           }
          ],
          "scatterpolar": [
           {
            "marker": {
             "colorbar": {
              "outlinewidth": 0,
              "ticks": ""
             }
            },
            "type": "scatterpolar"
           }
          ],
          "scatterpolargl": [
           {
            "marker": {
             "colorbar": {
              "outlinewidth": 0,
              "ticks": ""
             }
            },
            "type": "scatterpolargl"
           }
          ],
          "scatterternary": [
           {
            "marker": {
             "colorbar": {
              "outlinewidth": 0,
              "ticks": ""
             }
            },
            "type": "scatterternary"
           }
          ],
          "surface": [
           {
            "colorbar": {
             "outlinewidth": 0,
             "ticks": ""
            },
            "colorscale": [
             [
              0,
              "#0d0887"
             ],
             [
              0.1111111111111111,
              "#46039f"
             ],
             [
              0.2222222222222222,
              "#7201a8"
             ],
             [
              0.3333333333333333,
              "#9c179e"
             ],
             [
              0.4444444444444444,
              "#bd3786"
             ],
             [
              0.5555555555555556,
              "#d8576b"
             ],
             [
              0.6666666666666666,
              "#ed7953"
             ],
             [
              0.7777777777777778,
              "#fb9f3a"
             ],
             [
              0.8888888888888888,
              "#fdca26"
             ],
             [
              1,
              "#f0f921"
             ]
            ],
            "type": "surface"
           }
          ],
          "table": [
           {
            "cells": {
             "fill": {
              "color": "#EBF0F8"
             },
             "line": {
              "color": "white"
             }
            },
            "header": {
             "fill": {
              "color": "#C8D4E3"
             },
             "line": {
              "color": "white"
             }
            },
            "type": "table"
           }
          ]
         },
         "layout": {
          "annotationdefaults": {
           "arrowcolor": "#2a3f5f",
           "arrowhead": 0,
           "arrowwidth": 1
          },
          "autotypenumbers": "strict",
          "coloraxis": {
           "colorbar": {
            "outlinewidth": 0,
            "ticks": ""
           }
          },
          "colorscale": {
           "diverging": [
            [
             0,
             "#8e0152"
            ],
            [
             0.1,
             "#c51b7d"
            ],
            [
             0.2,
             "#de77ae"
            ],
            [
             0.3,
             "#f1b6da"
            ],
            [
             0.4,
             "#fde0ef"
            ],
            [
             0.5,
             "#f7f7f7"
            ],
            [
             0.6,
             "#e6f5d0"
            ],
            [
             0.7,
             "#b8e186"
            ],
            [
             0.8,
             "#7fbc41"
            ],
            [
             0.9,
             "#4d9221"
            ],
            [
             1,
             "#276419"
            ]
           ],
           "sequential": [
            [
             0,
             "#0d0887"
            ],
            [
             0.1111111111111111,
             "#46039f"
            ],
            [
             0.2222222222222222,
             "#7201a8"
            ],
            [
             0.3333333333333333,
             "#9c179e"
            ],
            [
             0.4444444444444444,
             "#bd3786"
            ],
            [
             0.5555555555555556,
             "#d8576b"
            ],
            [
             0.6666666666666666,
             "#ed7953"
            ],
            [
             0.7777777777777778,
             "#fb9f3a"
            ],
            [
             0.8888888888888888,
             "#fdca26"
            ],
            [
             1,
             "#f0f921"
            ]
           ],
           "sequentialminus": [
            [
             0,
             "#0d0887"
            ],
            [
             0.1111111111111111,
             "#46039f"
            ],
            [
             0.2222222222222222,
             "#7201a8"
            ],
            [
             0.3333333333333333,
             "#9c179e"
            ],
            [
             0.4444444444444444,
             "#bd3786"
            ],
            [
             0.5555555555555556,
             "#d8576b"
            ],
            [
             0.6666666666666666,
             "#ed7953"
            ],
            [
             0.7777777777777778,
             "#fb9f3a"
            ],
            [
             0.8888888888888888,
             "#fdca26"
            ],
            [
             1,
             "#f0f921"
            ]
           ]
          },
          "colorway": [
           "#636efa",
           "#EF553B",
           "#00cc96",
           "#ab63fa",
           "#FFA15A",
           "#19d3f3",
           "#FF6692",
           "#B6E880",
           "#FF97FF",
           "#FECB52"
          ],
          "font": {
           "color": "#2a3f5f"
          },
          "geo": {
           "bgcolor": "white",
           "lakecolor": "white",
           "landcolor": "#E5ECF6",
           "showlakes": true,
           "showland": true,
           "subunitcolor": "white"
          },
          "hoverlabel": {
           "align": "left"
          },
          "hovermode": "closest",
          "mapbox": {
           "style": "light"
          },
          "paper_bgcolor": "white",
          "plot_bgcolor": "#E5ECF6",
          "polar": {
           "angularaxis": {
            "gridcolor": "white",
            "linecolor": "white",
            "ticks": ""
           },
           "bgcolor": "#E5ECF6",
           "radialaxis": {
            "gridcolor": "white",
            "linecolor": "white",
            "ticks": ""
           }
          },
          "scene": {
           "xaxis": {
            "backgroundcolor": "#E5ECF6",
            "gridcolor": "white",
            "gridwidth": 2,
            "linecolor": "white",
            "showbackground": true,
            "ticks": "",
            "zerolinecolor": "white"
           },
           "yaxis": {
            "backgroundcolor": "#E5ECF6",
            "gridcolor": "white",
            "gridwidth": 2,
            "linecolor": "white",
            "showbackground": true,
            "ticks": "",
            "zerolinecolor": "white"
           },
           "zaxis": {
            "backgroundcolor": "#E5ECF6",
            "gridcolor": "white",
            "gridwidth": 2,
            "linecolor": "white",
            "showbackground": true,
            "ticks": "",
            "zerolinecolor": "white"
           }
          },
          "shapedefaults": {
           "line": {
            "color": "#2a3f5f"
           }
          },
          "ternary": {
           "aaxis": {
            "gridcolor": "white",
            "linecolor": "white",
            "ticks": ""
           },
           "baxis": {
            "gridcolor": "white",
            "linecolor": "white",
            "ticks": ""
           },
           "bgcolor": "#E5ECF6",
           "caxis": {
            "gridcolor": "white",
            "linecolor": "white",
            "ticks": ""
           }
          },
          "title": {
           "x": 0.05
          },
          "xaxis": {
           "automargin": true,
           "gridcolor": "white",
           "linecolor": "white",
           "ticks": "",
           "title": {
            "standoff": 15
           },
           "zerolinecolor": "white",
           "zerolinewidth": 2
          },
          "yaxis": {
           "automargin": true,
           "gridcolor": "white",
           "linecolor": "white",
           "ticks": "",
           "title": {
            "standoff": 15
           },
           "zerolinecolor": "white",
           "zerolinewidth": 2
          }
         }
        },
        "title": {
         "text": "Hierarchical Flowchart of Finance Emails"
        },
        "xaxis": {
         "showgrid": false,
         "zeroline": false
        },
        "yaxis": {
         "showgrid": false,
         "zeroline": false
        }
       }
      }
     },
     "metadata": {},
     "output_type": "display_data"
    }
   ],
   "source": [
    "import plotly.graph_objects as go\n",
    "import networkx as nx\n",
    "\n",
    "# Define the hierarchical structure of nodes\n",
    "edges = [\n",
    "    (\"Finance Emails\", \"Internal & External Emails\"),\n",
    "    (\"Finance Emails\", \"Reporting Emails\"),\n",
    "    (\"Finance Emails\", \"Action-Oriented Emails\"),\n",
    "    \n",
    "    (\"Internal & External Emails\", \"Internal Emails\"),\n",
    "    (\"Internal & External Emails\", \"External Emails\"),\n",
    "    \n",
    "    (\"Reporting Emails\", \"MIS Reports\"),\n",
    "    (\"Reporting Emails\", \"IPO Reports\"),\n",
    "    (\"Reporting Emails\", \"Auditor Reports\"),\n",
    "    \n",
    "    (\"Action-Oriented Emails\", \"Payment Requests\"),\n",
    "    (\"Action-Oriented Emails\", \"Approvals & Closings\"),\n",
    "    (\"Action-Oriented Emails\", \"Invoices & Payments\"),\n",
    "    \n",
    "    (\"Payment Requests\", \"Internal Payment Requests\"),\n",
    "    (\"Payment Requests\", \"External Payment Requests\"),\n",
    "    \n",
    "    (\"Approvals & Closings\", \"IPO Approval\"),\n",
    "    (\"Approvals & Closings\", \"Tender Approval\"),\n",
    "    \n",
    "    (\"Invoices & Payments\", \"Civil Supply Bills\"),\n",
    "    (\"Invoices & Payments\", \"Invoice Approvals\"),\n",
    "    \n",
    "    (\"Taxes\", \"GST\"),\n",
    "    (\"Taxes\", \"Income Tax\"),\n",
    "    \n",
    "    (\"GST\", \"GST Reporting\"),\n",
    "    (\"GST\", \"GST Action Required\"),\n",
    "    \n",
    "    (\"Income Tax\", \"Income Tax Reports\"),\n",
    "    (\"Income Tax\", \"Income Tax Action Required\")\n",
    "]\n",
    "\n",
    "# Create a directed graph from the edges\n",
    "G = nx.DiGraph()\n",
    "G.add_edges_from(edges)\n",
    "\n",
    "# Position nodes using a hierarchical layout (Spring layout for hierarchy)\n",
    "pos = nx.spring_layout(G, seed=42)\n",
    "\n",
    "# Prepare the plot using Plotly\n",
    "edge_x = []\n",
    "edge_y = []\n",
    "for edge in G.edges():\n",
    "    x0, y0 = pos[edge[0]]\n",
    "    x1, y1 = pos[edge[1]]\n",
    "    edge_x.append(x0)\n",
    "    edge_x.append(x1)\n",
    "    edge_y.append(y0)\n",
    "    edge_y.append(y1)\n",
    "\n",
    "# Create Plotly traces for the nodes\n",
    "node_x = [pos[node][0] for node in G.nodes()]\n",
    "node_y = [pos[node][1] for node in G.nodes()]\n",
    "\n",
    "# Add edge lines\n",
    "fig = go.Figure()\n",
    "\n",
    "fig.add_trace(go.Scatter(\n",
    "    x=edge_x, y=edge_y,\n",
    "    mode='lines',\n",
    "    line=dict(width=2, color='gray'),\n",
    "    hoverinfo='none'\n",
    "))\n",
    "\n",
    "# Add node markers\n",
    "fig.add_trace(go.Scatter(\n",
    "    x=node_x, y=node_y,\n",
    "    mode='markers+text',\n",
    "    text=list(G.nodes()),\n",
    "    textposition=\"bottom center\",\n",
    "    marker=dict(size=15, color=\"skyblue\"),\n",
    "    hoverinfo='text'\n",
    "))\n",
    "\n",
    "# Update layout to improve aesthetics\n",
    "fig.update_layout(\n",
    "    title=\"Hierarchical Flowchart of Finance Emails\",\n",
    "    showlegend=False,\n",
    "    hovermode='closest',\n",
    "    xaxis=dict(showgrid=False, zeroline=False),\n",
    "    yaxis=dict(showgrid=False, zeroline=False)\n",
    ")\n",
    "\n",
    "fig.show()"
   ]
  }
 ],
 "metadata": {
  "kernelspec": {
   "display_name": "Python 3",
   "language": "python",
   "name": "python3"
  },
  "language_info": {
   "codemirror_mode": {
    "name": "ipython",
    "version": 3
   },
   "file_extension": ".py",
   "mimetype": "text/x-python",
   "name": "python",
   "nbconvert_exporter": "python",
   "pygments_lexer": "ipython3",
   "version": "3.12.4"
  }
 },
 "nbformat": 4,
 "nbformat_minor": 2
}
